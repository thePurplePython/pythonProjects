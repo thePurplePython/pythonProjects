{
 "cells": [
  {
   "cell_type": "markdown",
   "metadata": {},
   "source": [
    "### grp"
   ]
  },
  {
   "cell_type": "markdown",
   "metadata": {},
   "source": [
    "## Hands-On Machine Learning with Scikit-Learn & TensorFlow"
   ]
  },
  {
   "cell_type": "markdown",
   "metadata": {},
   "source": [
    "## CHAPTER 1: The Machine Learning Landscape"
   ]
  },
  {
   "cell_type": "markdown",
   "metadata": {},
   "source": [
    "-  Machine Learning => science of programming computers to learn from data  \n",
    "-  Training Set => known examples the computer uses to learn from    \n",
    "-  Accuracy => ratio of correctly classified dependent variable    \n",
    "-  Data Mining => discover previously unknown patterns in data\n",
    "-  Attributes => data type ... aka predictor variable(s) metadata [ex: mileage]\n",
    "-  Features => attribute plus its value ... aka predictor variable(s) [ex: mileage = 15,000]"
   ]
  },
  {
   "cell_type": "markdown",
   "metadata": {},
   "source": [
    "## Supervised Learning:\n",
    "-  training data fed to algorithm includes solutions (labels)\n",
    "-  system uses training data to learn from features and labels\n",
    "\n",
    "### Algorithms:\n",
    "-  k-Nearest Neighbors (KNNs)\n",
    "-  Linear Regression\n",
    "-  Logistic Regression\n",
    "-  Support Vector Machines (SVMs)\n",
    "-  Decision Trees and Random Forests\n",
    "-  Neural Networks"
   ]
  },
  {
   "cell_type": "markdown",
   "metadata": {},
   "source": [
    "## Unsupervised Learning:\n",
    "-  training data fed to algorithm does not include solutions (unlabeled)\n",
    "-  system tries to learn without a teacher\n",
    "\n",
    "### Algorithms:\n",
    "-  Clustering:\n",
    "    -  k-Means\n",
    "    -  Hierarchical Cluster Analysis (HCA)\n",
    "    -  Expectation Maximization\n",
    "-  Visualization and Dimensionality Reduction\n",
    "    -  Principal Component Analysis (PCA)\n",
    "    -  Kernel PCA\n",
    "    -  Locally-Linear Embedding (LLE)\n",
    "    -  t-distributed Stochastic Neighbor Embedding (t-SNE)\n",
    "-  Association Rule Learning:\n",
    "    -  Apriori\n",
    "    -  Eclat\n",
    "\n",
    "### Examples:\n",
    "-  Dimensionality Reduction:\n",
    "    -  goal is to simplify the data w/o loosing too much information:\n",
    "        -  merge serveral correlated features into one ... aka \"feature extraction\"\n",
    "    -  use DR prior to ML algorithm to improve performance (memory/disk space)\n",
    "-  Anomaly Detection:\n",
    "    -  goal is to detect unusual behaviour in the dataset (outliers)\n",
    "-  Association:\n",
    "    -  goal is to discover interesting relations between attributes (customer buying patterns)"
   ]
  },
  {
   "cell_type": "markdown",
   "metadata": {},
   "source": [
    "## Semisupervised Learning:\n",
    "-  training data partially labeled"
   ]
  },
  {
   "cell_type": "markdown",
   "metadata": {},
   "source": [
    "## Reinforcement Learning:\n",
    "-  Agent:\n",
    "    -  observes environment, select, and perform actions\n",
    "    -  receives \"rewards\" in return or \"penalties\" as negative reward\n",
    "-  Policy:\n",
    "    -  agent must learn by itself to perform best strategy (policy)\n",
    "    -  defines what action the agent should choose when it is in a given situation\n",
    "    \n",
    "### Example:\n",
    "-  Robotic Process Automation\n",
    "    "
   ]
  },
  {
   "cell_type": "markdown",
   "metadata": {},
   "source": [
    "## Batch [Offline] Learning:\n",
    "-  system is incapable of learning incrementally\n",
    "-  trained offline:\n",
    "    -  1 - system is trained\n",
    "    -  2 - launched into production and runs w/o learning anymore\n",
    "    -  3 - applies results to new data based on what it has learned previously\n",
    "-  incorporating new data to learn from:\n",
    "    -  ***new version must be re-trained on old + new data and then replace old model with new updated model***\n",
    "\n",
    "## Online [Incremental] Learning:\n",
    "-  train the system incrementally by feeding data via mini-batches\n",
    "-  learns about new data on the fly as it arrives\n",
    "-  \"online\" learning typically still done \"offline\"\n",
    "-  solid method for systems with limited computing resources [memory]\n",
    "-  algorithm loads part of the data, runs a training step on the data, and repeats the process until it has trained whole dataset"
   ]
  },
  {
   "cell_type": "markdown",
   "metadata": {},
   "source": [
    "## Instance-Based Learning vs. Model-Based Learning Generalizing\n",
    "-  IBL:\n",
    "    -  systems learns from examples by heart via similarity measure:\n",
    "        -  ex: compares word counts between unknown email and known spam email to make a prediction\n",
    "-  MBL:\n",
    "    -  system builds a model via parameter tuning to make predictions\n",
    "    -  uses a performance measure:\n",
    "        -  utility function => measures how good the model is\n",
    "        -  cost function => measures how bad the model is:\n",
    "            -  linear regression ex:  (measures distance between the linear model's prediction and the training examples; **objective is to minimize this distance**\n",
    "            -  algorithm is fed to training data and it finds the parameters that make the linear model fit best to dataset and then can be used to make predictions ... aka **inference**\n",
    "            "
   ]
  },
  {
   "cell_type": "markdown",
   "metadata": {},
   "source": [
    "## ML Challenges:\n",
    "1.  Bad Algorithm\n",
    "2.  Bad Data (garbage in, garbage out)\n",
    "    -  missing / null values\n",
    "    -  small / flawed samples (training set) => sampling noise / sampling bias\n",
    "    -  outliers / errors\n",
    "    -  irrelevant features"
   ]
  },
  {
   "cell_type": "markdown",
   "metadata": {},
   "source": [
    "## ML Feature Engineering:\n",
    "-  Feature Selection => selects most useful features for training\n",
    "-  Feature Extraction => combines existing features into more useful one (ex: dimensionality reduction algorithms)"
   ]
  },
  {
   "cell_type": "markdown",
   "metadata": {},
   "source": [
    "## Overfitting [a too complex model]:\n",
    "-  model performs well on training data, but does not generalize (bias) well when applying model\n",
    "-  \"overfitting\" occurs when the model is too complex relative to the amount / noiseness of the training data\n",
    "-  solutions:\n",
    "    -  include fewer attributes in training data\n",
    "    -  constraining the model ... aka regularization [how well the model is fit to the training data]:\n",
    "        -  large regularization parameter will avoid overfitting but produce a small slope and have trouble building a good model\n",
    "    -  gather more training data\n",
    "    -  reduce noise (clean data / remove outliers) in training data"
   ]
  },
  {
   "cell_type": "markdown",
   "metadata": {},
   "source": [
    "## Underfitting [a too simple model]:\n",
    "-  model is too simple to learn from the underlying structure of the data\n",
    "-  solutions:\n",
    "    -  select more powerful model with more parameters\n",
    "    -  feeding better features to the learning algorithm (feature engineering)\n",
    "    -  reduce constraints on model (reduce regularization hyperparameter)"
   ]
  },
  {
   "cell_type": "markdown",
   "metadata": {},
   "source": [
    "## Hyperparameter:\n",
    "-  parameter of a learning algorithm set prior to training"
   ]
  },
  {
   "cell_type": "markdown",
   "metadata": {},
   "source": [
    "## Testing / Validating:\n",
    "-  split data into training (usually 80%) and test (usually 20%) sets\n",
    "-  generalization error => error rate via test set (data model has never seen)\n",
    "-  ex: training error is low / generalization error is high => model is overfitting"
   ]
  },
  {
   "cell_type": "markdown",
   "metadata": {},
   "source": [
    "## Cross Validation:\n",
    "-  training set is split into complementary subsets\n",
    "-  each model is trained against a different combination of these subsets and validated against the remaining part\n",
    "-  Process:\n",
    "    1.  train multiple models with various hyperparameters using training set\n",
    "    2.  select best model / hyperparameters that performs on validation set\n",
    "    3.  run best model on test set to get an estimate of the generalization error"
   ]
  },
  {
   "cell_type": "markdown",
   "metadata": {},
   "source": [
    "### _Exercises_"
   ]
  },
  {
   "cell_type": "code",
   "execution_count": 1,
   "metadata": {
    "collapsed": true
   },
   "outputs": [],
   "source": [
    "import matplotlib\n",
    "import matplotlib.pyplot as plt\n",
    "import numpy as np\n",
    "import pandas as pd\n",
    "import sklearn.linear_model\n",
    "import sklearn.neighbors"
   ]
  },
  {
   "cell_type": "code",
   "execution_count": 2,
   "metadata": {
    "collapsed": true
   },
   "outputs": [],
   "source": [
    "d1 = '/Users/grp/handsOnMLwSL&TF/datasets/lifesat/oecd_bli_2015.csv'\n",
    "d2 = '/Users/grp/handsOnMLwSL&TF/datasets/lifesat/gdp_per_capita.csv'"
   ]
  },
  {
   "cell_type": "code",
   "execution_count": 3,
   "metadata": {
    "collapsed": true
   },
   "outputs": [],
   "source": [
    "def prepare_country_stats(oecd_bli, gdp_per_capita):\n",
    "    \n",
    "    \"\"\"merges the OECD's life satisfaction data and the IMF's GDP per capita data\"\"\"\n",
    "    \n",
    "    oecd_bli = oecd_bli[oecd_bli[\"INEQUALITY\"]==\"TOT\"]\n",
    "    oecd_bli = oecd_bli.pivot(index=\"Country\", columns=\"Indicator\", values=\"Value\")\n",
    "    gdp_per_capita.rename(columns={\"2015\": \"GDP per capita\"}, inplace=True)\n",
    "    gdp_per_capita.set_index(\"Country\", inplace=True)\n",
    "    full_country_stats = pd.merge(left=oecd_bli, right=gdp_per_capita, left_index=True, right_index=True)\n",
    "    full_country_stats.sort_values(by=\"GDP per capita\", inplace=True)\n",
    "    remove_indices = [0, 1, 6, 8, 33, 34, 35]\n",
    "    keep_indices = list(set(range(36)) - set(remove_indices))\n",
    "    return full_country_stats[[\"GDP per capita\", 'Life satisfaction']].iloc[keep_indices]"
   ]
  },
  {
   "cell_type": "code",
   "execution_count": 5,
   "metadata": {},
   "outputs": [
    {
     "data": {
      "image/png": "[encoded data removed]",
      "text/plain": [
       "<matplotlib.figure.Figure at 0x10457e550>"
      ]
     },
     "metadata": {},
     "output_type": "display_data"
    },
    {
     "name": "stdout",
     "output_type": "stream",
     "text": [
      "[[5.96242338]]\n"
     ]
    }
   ],
   "source": [
    "# load the data\n",
    "oecd_bli = pd.read_csv(d1, thousands=',')\n",
    "gdp_per_capita = pd.read_csv(d2, thousands=',',delimiter='\\t', encoding='latin1', na_values=\"n/a\")\n",
    "\n",
    "# Prepare the data\n",
    "country_stats = prepare_country_stats(oecd_bli, gdp_per_capita)\n",
    "X = np.c_[country_stats[\"GDP per capita\"]]\n",
    "y = np.c_[country_stats[\"Life satisfaction\"]]\n",
    "\n",
    "# Visualize the data\n",
    "country_stats.plot(kind='scatter', x=\"GDP per capita\", y='Life satisfaction')\n",
    "plt.show()\n",
    "\n",
    "# Select a linear model\n",
    "lr = sklearn.linear_model.LinearRegression()\n",
    "model = lr\n",
    "\n",
    "# Select a neighbor model\n",
    "# model = sklearn.neighbors.KNeighborsRegressor(n_neighbors=3)\n",
    "\n",
    "# Train the model\n",
    "model.fit(X, y)\n",
    "\n",
    "# Make a prediction for Cyprus\n",
    "X_new = [[22587]]  # Cyprus' GDP per capita\n",
    "print(model.predict(X_new)) # outputs [[ 5.96242338]]"
   ]
  },
  {
   "cell_type": "markdown",
   "metadata": {},
   "source": [
    "**1. How would you define Machine Learning?**\n",
    "\n",
    "_Machine Learning is about building systems that can learn from data. Learning means getting better at some task, given some performance measure._\n",
    "\n",
    "**2. Can you name four types of problems where it shines?**\n",
    "\n",
    "_Machine Learning is great for complex problems for which we have no algorithmic solution, to replace long lists of hand-tuned rules, to build systems that adapt to fluctuating environments, and finally to help humans learn (e.g., data mining)._\n",
    "\n",
    "**3. What is a labeled training set?**\n",
    "\n",
    "_A labeled training set is a training set that contains the desired solution (a.k.a. a label) for each instance._\n",
    "\n",
    "**4. What are the two most common supervised tasks?**\n",
    "\n",
    "_The two most common supervised tasks are regression and classification._\n",
    "\n",
    "**5. Can you name four common unsupervised tasks?**\n",
    "\n",
    "_Common unsupervised tasks include clustering, visualization, dimensionality reduction, and association rule learning._\n",
    "\n",
    "**6. What type of Machine Learning algorithm would you use to allow a robot to walk in various unknown terrains?**\n",
    "\n",
    "_Reinforcement Learning is likely to perform best if we want a robot to learn to walk in various unknown terrains since this is typically the type of problem that Reinforcement Learning tackles. It might be possible to express the problem as a supervised or semisupervised learning problem, but it would be less natural._\n",
    "\n",
    "**7. What type of algorithm would you use to segment your customers into multiple groups?**\n",
    "\n",
    "_If you don’t know how to define the groups, then you can use a clustering algorithm (unsupervised learning) to segment your customers into clusters of similar customers. However, if you know what groups you would like to have, then you can feed many examples of each group to a classification algorithm (supervised learning), and it will classify all your customers into these groups._\n",
    "\n",
    "**8. Would you frame the problem of spam detection as a supervised learning problem or an unsupervised learning problem?**\n",
    "\n",
    "_Spam detection is a typical supervised learning problem: the algorithm is fed many emails along with their label (spam or not spam)._\n",
    "\n",
    "**9. What is an online learning system?**\n",
    "\n",
    "_An online learning system can learn incrementally, as opposed to a batch learning system. This makes it capable of adapting rapidly to both changing data and autonomous systems, and of training on very large quantities of data._\n",
    "\n",
    "**10. What is out-of-core learning?**\n",
    "\n",
    "_Out-of-core algorithms can handle vast quantities of data that cannot fit in a computer’s main memory. An out-of-core learning algorithm chops the data into mini-batches and uses online learning techniques to learn from these mini-batches._\n",
    "\n",
    "**11. What type of learning algorithm relies on a similarity measure to make predictions?**\n",
    "\n",
    "_An instance-based learning system learns the training data by heart; then, when given a new instance, it uses a similarity measure to find the most similar learned instances and uses them to make predictions._\n",
    "\n",
    "**12. What is the difference between a model parameter and a learning algorithm’s hyperparameter?**\n",
    "\n",
    "_A model has one or more model parameters that determine what it will predict given a new instance (e.g., the slope of a linear model). A learning algorithm tries to find optimal values for these parameters such that the model generalizes well to new instances. A hyperparameter is a parameter of the learning algorithm itself, not of the model (e.g., the amount of regularization to apply)._\n",
    "\n",
    "**13. What do model-based learning algorithms search for? What is the most common strategy they use to succeed? How do they make predictions?**\n",
    "\n",
    "_Model-based learning algorithms search for an optimal value for the model parameters such that the model will generalize well to new instances. We usually train such systems by minimizing a cost function that measures how bad the system is at making predictions on the training data, plus a penalty for model complexity if the model is regularized. To make predictions, we feed the new instance’s features into the model’s prediction function, using the parameter values found by the learning algorithm._\n",
    "\n",
    "**14. Can you name four of the main challenges in Machine Learning?**\n",
    "\n",
    "_Some of the main challenges in Machine Learning are the lack of data, poor data quality, nonrepresentative data, uninformative features, excessively simple models that underfit the training data, and excessively complex models that overfit the data._\n",
    "\n",
    "**15. If your model performs great on the training data but generalizes poorly to new instances, what is happening? Can you name three possible solutions?**\n",
    "\n",
    "_If a model performs great on the training data but generalizes poorly to new instances, the model is likely overfitting the training data (or we got extremely lucky on the training data). Possible solutions to overfitting are getting more data, simplifying the model (selecting a simpler algorithm, reducing the number of parameters or features used, or regularizing the model), or reducing the noise in the training data._\n",
    "\n",
    "**16. What is a test set and why would you want to use it?**\n",
    "\n",
    "_A test set is used to estimate the generalization error that a model will make on new instances, before the model is launched in production._\n",
    "\n",
    "**17. What is the purpose of a validation set?**\n",
    "\n",
    "_A validation set is used to compare models. It makes it possible to select the best model and tune the hyperparameters._\n",
    "\n",
    "**18. What can go wrong if you tune hyperparameters using the test set?**\n",
    "\n",
    "_If you tune hyperparameters using the test set, you risk overfitting the test set, and the generalization error you measure will be optimistic (you may launch a model that performs worse than you expect)._\n",
    "\n",
    "**19. What is cross-validation and why would you prefer it to a validation set?**\n",
    "\n",
    "_Cross-validation is a technique that makes it possible to compare models (for model selection and hyperparameter tuning) without the need for a separate validation set. This saves precious training data._"
   ]
  },
  {
   "cell_type": "markdown",
   "metadata": {},
   "source": [
    "### grp"
   ]
  }
 ],
 "metadata": {
  "kernelspec": {
   "display_name": "Python 3",
   "language": "python",
   "name": "python3"
  },
  "language_info": {
   "codemirror_mode": {
    "name": "ipython",
    "version": 3
   },
   "file_extension": ".py",
   "mimetype": "text/x-python",
   "name": "python",
   "nbconvert_exporter": "python",
   "pygments_lexer": "ipython3",
   "version": "3.6.3"
  }
 },
 "nbformat": 4,
 "nbformat_minor": 2
}
