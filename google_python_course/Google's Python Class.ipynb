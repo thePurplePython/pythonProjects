{
 "cells": [
  {
   "cell_type": "markdown",
   "metadata": {},
   "source": [
    "# Overview"
   ]
  },
  {
   "cell_type": "markdown",
   "metadata": {},
   "source": [
    "https://developers.google.com/edu/python"
   ]
  },
  {
   "cell_type": "markdown",
   "metadata": {},
   "source": [
    "# Python Set Up"
   ]
  },
  {
   "cell_type": "code",
   "execution_count": 1,
   "metadata": {},
   "outputs": [
    {
     "name": "stdout",
     "output_type": "stream",
     "text": [
      "Hello Google\r\n"
     ]
    }
   ],
   "source": [
    "!python google-python-exercises/hello.py Google"
   ]
  },
  {
   "cell_type": "code",
   "execution_count": 2,
   "metadata": {},
   "outputs": [
    {
     "name": "stdout",
     "output_type": "stream",
     "text": [
      "#!/usr/bin/python -tt\r\n",
      "# Copyright 2010 Google Inc.\r\n",
      "# Licensed under the Apache License, Version 2.0\r\n",
      "# http://www.apache.org/licenses/LICENSE-2.0\r\n",
      "\r\n",
      "# Google's Python Class\r\n",
      "# http://code.google.com/edu/languages/google-python-class/\r\n",
      "\r\n",
      "\"\"\"A tiny Python program to check that Python is working.\r\n",
      "Try running this program from the command line like this:\r\n",
      "  python hello.py\r\n",
      "  python hello.py Alice\r\n",
      "That should print:\r\n",
      "  Hello World -or- Hello Alice\r\n",
      "Try changing the 'Hello' to 'Howdy' and run again.\r\n",
      "Once you have that working, you're ready for class -- you can edit\r\n",
      "and run Python code; now you just need to learn Python!\r\n",
      "\"\"\"\r\n",
      "\r\n",
      "import sys\r\n",
      "\r\n",
      "# Define a main() function that prints a little greeting.\r\n",
      "def main():\r\n",
      "  # Get the name from the command line, using 'World' as a fallback.\r\n",
      "  if len(sys.argv) >= 2:\r\n",
      "    name = sys.argv[1]\r\n",
      "  else:\r\n",
      "    name = 'World'\r\n",
      "  print('Hello', name)\r\n",
      "\r\n",
      "# This is the standard boilerplate that calls the main() function.\r\n",
      "if __name__ == '__main__':\r\n",
      "  main()\r\n"
     ]
    }
   ],
   "source": [
    "!cat google-python-exercises/hello.py"
   ]
  },
  {
   "cell_type": "markdown",
   "metadata": {},
   "source": [
    "# Python Intro"
   ]
  },
  {
   "cell_type": "markdown",
   "metadata": {},
   "source": [
    "**\"Python is a dynamic, interpreted (bytecode-compiled) language. There are no type declarations of variables, parameters, functions, or methods in source code. This makes the code short and flexible, and you lose the compile-time type checking of the source code. Python tracks the types of all values at runtime and flags code that does not make sense as it runs.\"**"
   ]
  },
  {
   "cell_type": "markdown",
   "metadata": {},
   "source": [
    "### Imports, Command-line arguments, and len()"
   ]
  },
  {
   "cell_type": "markdown",
   "metadata": {},
   "source": [
    "\"A Python module can be run directly — as above \"python hello.py Bob\" — or it can be imported and used by some other module. When a Python file is run directly, the special variable \"\\__name__\" is set to \"\\__main__\".\"\n",
    "\n",
    "**\"Therefore, it's common to have the boilerplate if ```__name__ ==...``` shown above to call a main() function when the module is run directly, but not when the module is imported (sort of treats python file module as a library) by some other module.\"**"
   ]
  },
  {
   "cell_type": "code",
   "execution_count": 3,
   "metadata": {},
   "outputs": [
    {
     "name": "stdout",
     "output_type": "stream",
     "text": [
      "Hello there Google\r\n",
      "Command-line arguments are:  2\r\n",
      "Command-line arguments list:  ['google-python-exercises/helloworld.py', 'Google']\r\n",
      "First argument (sys 0) is:  google-python-exercises/helloworld.py\r\n",
      "Second argument (sys 1) is:  Google\r\n"
     ]
    }
   ],
   "source": [
    "!python google-python-exercises/helloworld.py Google"
   ]
  },
  {
   "cell_type": "code",
   "execution_count": 4,
   "metadata": {},
   "outputs": [
    {
     "name": "stdout",
     "output_type": "stream",
     "text": [
      "#!/usr/bin/env python\r\n",
      "\r\n",
      "# import modules used here -- sys is a very standard one\r\n",
      "import sys\r\n",
      "\r\n",
      "# Gather our code in a main() function\r\n",
      "def main():\r\n",
      "    print('Hello there', sys.argv[1])\r\n",
      "    print('Command-line arguments are: ', len(sys.argv))\r\n",
      "    print('Command-line arguments list: ', sys.argv)\r\n",
      "    print('First argument (sys 0) is: ', sys.argv[0])\r\n",
      "    print('Second argument (sys 1) is: ', sys.argv[1])\r\n",
      "    # Command line args are in sys.argv[1], sys.argv[2] ...\r\n",
      "    # sys.argv[0] is the script name itself and can be ignored\r\n",
      "\r\n",
      "# Standard boilerplate to call the main() function to begin\r\n",
      "# the program.\r\n",
      "if __name__ == '__main__':\r\n",
      "    main()"
     ]
    }
   ],
   "source": [
    "!cat google-python-exercises/helloworld.py"
   ]
  },
  {
   "cell_type": "markdown",
   "metadata": {},
   "source": [
    "### User-defined Functions"
   ]
  },
  {
   "cell_type": "markdown",
   "metadata": {},
   "source": [
    "\"The ```def``` keyword defines the function with its parameters within parentheses and its code indented. The first line of a function can be a documentation string (\"docstring\") that describes what the function does. The docstring can be a single line, or a multi-line description as in the example above. (Yes, those are \"triple quotes,\" a feature unique to Python!) Variables defined in the function are local to that function, so the \"result\" in the above function is separate from a \"result\" variable in another function. The return statement can take an argument, in which case that is the value returned to the caller.\"\n",
    "\n",
    "\"At run time, functions must be defined by the execution of a \"def\" before they are called. It's typical to def a main() function towards the bottom of the file with the functions it calls above it.\"\n",
    "\n",
    "***The main() function does not have to be named main()***\n",
    "\n"
   ]
  },
  {
   "cell_type": "code",
   "execution_count": 5,
   "metadata": {},
   "outputs": [],
   "source": [
    "def repeat(s, exclaim):\n",
    "    \"\"\"\n",
    "    Returns the string 's' repeated 3 times.\n",
    "    If exclaim is true, add exclamation marks.\n",
    "    \"\"\"\n",
    "    result = s*3\n",
    "    if exclaim:\n",
    "        result = result + '!!!'\n",
    "    return result"
   ]
  },
  {
   "cell_type": "code",
   "execution_count": 6,
   "metadata": {},
   "outputs": [
    {
     "name": "stdout",
     "output_type": "stream",
     "text": [
      "YayYayYay\n",
      "YayYayYay!!!\n"
     ]
    }
   ],
   "source": [
    "print(repeat('Yay', False))\n",
    "print(repeat('Yay', True))"
   ]
  },
  {
   "cell_type": "code",
   "execution_count": 7,
   "metadata": {},
   "outputs": [
    {
     "name": "stdout",
     "output_type": "stream",
     "text": [
      "YayYayYay\r\n",
      "YayYayYay!!!\r\n"
     ]
    }
   ],
   "source": [
    "!python google-python-exercises/repeat.py"
   ]
  },
  {
   "cell_type": "code",
   "execution_count": 8,
   "metadata": {},
   "outputs": [
    {
     "name": "stdout",
     "output_type": "stream",
     "text": [
      "# Defines a \"repeat\" function that takes 2 arguments.\r\n",
      "def repeat(s, exclaim):\r\n",
      "    \"\"\"\r\n",
      "    Returns the string 's' repeated 3 times.\r\n",
      "    If exclaim is true, add exclamation marks.\r\n",
      "    \"\"\"\r\n",
      "\r\n",
      "    result = s + s + s # can also use \"s * 3\" which is faster (Why?)\r\n",
      "    if exclaim:\r\n",
      "        result = result + '!!!'\r\n",
      "    return result\r\n",
      "\r\n",
      "def execute():\r\n",
      "    print(repeat('Yay', False))\r\n",
      "    print(repeat('Yay', True))\r\n",
      "\r\n",
      "if __name__ == '__main__':\r\n",
      "    execute()"
     ]
    }
   ],
   "source": [
    "!cat google-python-exercises/repeat.py"
   ]
  },
  {
   "cell_type": "markdown",
   "metadata": {},
   "source": [
    "### Indentation"
   ]
  },
  {
   "cell_type": "markdown",
   "metadata": {},
   "source": [
    "\"Avoid using TABs as they greatly complicate the indentation scheme (not to mention TABs may mean different things on different platforms). Set your editor to insert spaces instead of TABs for Python code.\"\n",
    "\n",
    "\"A common question beginners ask is, \"How many spaces should I indent?\" According to the official Python style guide (PEP 8), you should indent with 4 spaces. (Fun fact: Google's internal style guideline dictates indenting by 2 spaces!)\""
   ]
  },
  {
   "cell_type": "markdown",
   "metadata": {},
   "source": [
    "### Code Checked at Runtime"
   ]
  },
  {
   "cell_type": "markdown",
   "metadata": {},
   "source": [
    "\"The if-statement contains an obvious error, where the repeat() function is accidentally typed in as repeeeet(). The funny thing in Python ... this code compiles and runs fine so long as the name at runtime is not 'Guido'. Only when a run actually tries to execute the repeeeet() will it notice that there is no such function and raise an error. This just means that when you first run a Python program, some of the first errors you see will be simple typos like this. This is one area where languages with a more verbose type system, like Java, have an advantage ... they can catch such errors at compile time (but of course you have to maintain all that type information ... it's a tradeoff).\""
   ]
  },
  {
   "cell_type": "code",
   "execution_count": 9,
   "metadata": {},
   "outputs": [
    {
     "name": "stdout",
     "output_type": "stream",
     "text": [
      "GoogleGoogle\r\n"
     ]
    }
   ],
   "source": [
    "!python google-python-exercises/guido.py Google"
   ]
  },
  {
   "cell_type": "code",
   "execution_count": 10,
   "metadata": {},
   "outputs": [
    {
     "name": "stdout",
     "output_type": "stream",
     "text": [
      "Traceback (most recent call last):\r\n",
      "  File \"google-python-exercises/guido.py\", line 17, in <module>\r\n",
      "    main()\r\n",
      "  File \"google-python-exercises/guido.py\", line 12, in main\r\n",
      "    print(repeeeet(sys.argv[1]) + '!!!')\r\n",
      "NameError: name 'repeeeet' is not defined\r\n"
     ]
    }
   ],
   "source": [
    "!python google-python-exercises/guido.py Guido"
   ]
  },
  {
   "cell_type": "code",
   "execution_count": 11,
   "metadata": {},
   "outputs": [
    {
     "name": "stdout",
     "output_type": "stream",
     "text": [
      "# Defines a \"repeat\" function that takes 1 argument.\r\n",
      "import sys\r\n",
      "\r\n",
      "def repeat(name):\r\n",
      "    \"\"\"\r\n",
      "    Returns the string 'name' repeated 2 times.\r\n",
      "    \"\"\"\r\n",
      "    return name*2\r\n",
      "\r\n",
      "def main():\r\n",
      "    if sys.argv[1] == 'Guido':\r\n",
      "        print(repeeeet(sys.argv[1]) + '!!!')\r\n",
      "    else:\r\n",
      "        print(repeat(sys.argv[1]))\r\n",
      "\r\n",
      "if __name__ == '__main__':\r\n",
      "    main()"
     ]
    }
   ],
   "source": [
    "!cat google-python-exercises/guido.py"
   ]
  },
  {
   "cell_type": "markdown",
   "metadata": {},
   "source": [
    "### Variable Names"
   ]
  },
  {
   "cell_type": "markdown",
   "metadata": {},
   "source": [
    "\"As far as actual naming goes, some languages prefer underscored_parts for variable names made up of \"more than one word,\" but other languages prefer camelCasing. In general, Python prefers the underscore method but guides developers to defer to camelCasing if integrating into existing Python code that already uses that style.\""
   ]
  },
  {
   "cell_type": "markdown",
   "metadata": {},
   "source": [
    "### More on Modules and their Namespaces"
   ]
  },
  {
   "cell_type": "markdown",
   "metadata": {},
   "source": [
    "\"\"Python Standard Library.\" Commonly used modules/packages include:\n",
    "\n",
    "**sys** — access to exit(), argv, stdin, stdout, ...\n",
    "\n",
    "**re** — regular expressions\n",
    "\n",
    "**os** — operating system interface, file system\n",
    "\n",
    "You can find the documentation of all the Standard Library modules and packages at https://docs.python.org/3/library/. \""
   ]
  },
  {
   "cell_type": "markdown",
   "metadata": {},
   "source": [
    "### Online help, help(), and dir()"
   ]
  },
  {
   "cell_type": "markdown",
   "metadata": {},
   "source": [
    "https://developers.google.com/edu/python/introduction#online-help,-help,-and-dir"
   ]
  },
  {
   "cell_type": "markdown",
   "metadata": {},
   "source": [
    "# Strings"
   ]
  },
  {
   "cell_type": "code",
   "execution_count": 12,
   "metadata": {},
   "outputs": [
    {
     "name": "stdout",
     "output_type": "stream",
     "text": [
      "i\n",
      "2\n",
      "hi there\n",
      "The value of pi is 3.14\n"
     ]
    }
   ],
   "source": [
    "s = 'hi'\n",
    "print(s[1])\n",
    "print(len(s))\n",
    "print(s + ' there')\n",
    "pi = 3.14\n",
    "text = 'The value of pi is '  + str(pi); print(text)"
   ]
  },
  {
   "cell_type": "markdown",
   "metadata": {},
   "source": [
    "\"A \"raw\" string literal is prefixed by an **'r'** and passes all the chars through without special treatment of backslashes, so r'x\\nx' evaluates to the length-4 string 'x\\nx'. A 'u' prefix allows you to write a unicode string literal (Python has lots of other unicode support features -- see the docs below).\""
   ]
  },
  {
   "cell_type": "code",
   "execution_count": 13,
   "metadata": {},
   "outputs": [
    {
     "name": "stdout",
     "output_type": "stream",
     "text": [
      "this\\t\\n and that\n",
      "It was the best of times. \n",
      "It was the worst of times.\n"
     ]
    }
   ],
   "source": [
    "raw = r'this\\t\\n and that'\n",
    "print(raw)\n",
    "\n",
    "multi = \"\"\"It was the best of times. \n",
    "It was the worst of times.\"\"\"\n",
    "print(multi)"
   ]
  },
  {
   "cell_type": "markdown",
   "metadata": {},
   "source": [
    "### String Methods"
   ]
  },
  {
   "cell_type": "markdown",
   "metadata": {},
   "source": [
    "\"A method is like a function, but it runs \"on\" an object.\"\n",
    "\n",
    "\"Here are some of the most common string methods:\n",
    "\n",
    "- s.lower(), s.upper() -- returns the lowercase or uppercase version of the string\n",
    "- s.strip() -- returns a string with whitespace removed from the start and end\n",
    "- s.isalpha()/s.isdigit()/s.isspace()... -- tests if all the string chars are in the various character classes\n",
    "- s.startswith('other'), s.endswith('other') -- tests if the string starts or ends with the given other string\n",
    "- s.find('other') -- searches for the given other string (not a regular expression) within s, and returns the first index where it begins or -1 if not found\n",
    "- s.replace('old', 'new') -- returns a string where all occurrences of 'old' have been replaced by 'new'\n",
    "- s.split('delim') -- returns a list of substrings separated by the given delimiter. The delimiter is not a regular expression, it's just text. 'aaa,bbb,ccc'.split(',') -> ['aaa', 'bbb', 'ccc']. As a convenient special case s.split() (with no arguments) splits on all whitespace chars.\n",
    "- s.join(list) -- opposite of split(), joins the elements in the given list together using the string as the delimiter. e.g. '---'.join(['aaa', 'bbb', 'ccc']) -> aaa---bbb---ccc\"\n",
    "\n",
    "https://docs.python.org/3/library/stdtypes.html#string-methods"
   ]
  },
  {
   "cell_type": "markdown",
   "metadata": {},
   "source": [
    "### String Slices"
   ]
  },
  {
   "cell_type": "markdown",
   "metadata": {},
   "source": [
    "\"The \"slice\" syntax is a handy way to refer to sub-parts of sequences -- typically strings and lists. The slice s[start:end] is the elements beginning at start and extending up to but not including end.\n",
    "\n",
    "\"Suppose we have s = \"Hello\"\n",
    "\n",
    "- s[1:4] is 'ell' -- chars starting at index 1 and extending up to but not including index 4\n",
    "- s[1:] is 'ello' -- omitting either index defaults to the start or end of the string\n",
    "- s[:] is 'Hello' -- omitting both always gives us a copy of the whole thing (this is the pythonic way to copy a sequence like a string or list)\n",
    "- s[1:100] is 'ello' -- an index that is too big is truncated down to the string length\"\n",
    "\n",
    "\"As an alternative, Python uses negative numbers to give easy access to the chars at the end of the string: s[-1] is the last char 'o', s[-2] is 'l' the next-to-last char, and so on. Negative index numbers count back from the end of the string:\n",
    "\n",
    "- s[-1] is 'o' -- last char (1st from the end)\n",
    "- s[-4] is 'e' -- 4th from the end\n",
    "- s[:-3] is 'He' -- going up to but not including the last 3 chars.\n",
    "- s[-3:] is 'llo' -- starting with the 3rd char from the end and extending to the end of the string.\"\n",
    "\n",
    "\"It is a neat truism of slices that for any index n, ```s[:n] + s[n:] == s.```\""
   ]
  },
  {
   "cell_type": "markdown",
   "metadata": {},
   "source": [
    "### String %"
   ]
  },
  {
   "cell_type": "markdown",
   "metadata": {},
   "source": [
    "\"Python has a printf()-like facility to put together a string. The % operator takes a printf-type format string on the left (**%d int, %s string, %f/%g floating point**), and the matching values in a tuple on the right (a tuple is made of values separated by commas, typically grouped inside parentheses).\""
   ]
  },
  {
   "cell_type": "code",
   "execution_count": 14,
   "metadata": {},
   "outputs": [
    {
     "name": "stdout",
     "output_type": "stream",
     "text": [
      "3 little pigs come out, or I'll huff, and I'll puff, and I'll blow your house down.\n"
     ]
    }
   ],
   "source": [
    "text = \"%d little pigs come out, or I'll %s, and I'll %s, and I'll blow your %s down.\" % (3, 'huff', 'puff', 'house')\n",
    "print(text)"
   ]
  },
  {
   "cell_type": "markdown",
   "metadata": {},
   "source": [
    "\"The above line is kind of long -- suppose you want to break it into separate lines. To fix this, enclose the whole expression in an outer set of parenthesis -- then the expression is allowed to span multiple lines. This code-across-lines technique works with the various grouping constructs detailed below: ( ), [ ], { }.\""
   ]
  },
  {
   "cell_type": "code",
   "execution_count": 15,
   "metadata": {},
   "outputs": [
    {
     "name": "stdout",
     "output_type": "stream",
     "text": [
      "3 little pigs come out, or I'll huff, and I'll puff, and I'll blow your house down.\n"
     ]
    }
   ],
   "source": [
    "text = (\n",
    "\"%d little pigs come out, or I'll %s, and I'll %s, and I'll blow your %s down.\"\n",
    "% (3, 'huff', 'puff', 'house'))\n",
    "print(text)"
   ]
  },
  {
   "cell_type": "markdown",
   "metadata": {},
   "source": [
    "\"Python lets you cut a line up into chunks, which it will then automatically concatenate. So, to make this line even shorter, we can do this.\""
   ]
  },
  {
   "cell_type": "code",
   "execution_count": 16,
   "metadata": {},
   "outputs": [
    {
     "name": "stdout",
     "output_type": "stream",
     "text": [
      "3 little pigs come out, or I'll huff, and I'll puff, and I'll blow your house down.\n"
     ]
    }
   ],
   "source": [
    "text = (\n",
    "\"%d little pigs come out, \"\n",
    "\"or I'll %s, and I'll %s, \"\n",
    "\"and I'll blow your %s down.\"\n",
    "% (3, 'huff', 'puff', 'house'))\n",
    "print(text)"
   ]
  },
  {
   "cell_type": "markdown",
   "metadata": {},
   "source": [
    "### i18n Strings (Unicode)"
   ]
  },
  {
   "cell_type": "markdown",
   "metadata": {},
   "source": [
    "\"Regular Python strings are *not* unicode, they are just plain bytes. To create a unicode string, use the **'u'** prefix on the string literal\""
   ]
  },
  {
   "cell_type": "code",
   "execution_count": 17,
   "metadata": {},
   "outputs": [
    {
     "name": "stdout",
     "output_type": "stream",
     "text": [
      "A unicode Ǝ string ñ\n"
     ]
    }
   ],
   "source": [
    "ustring = u'A unicode \\u018e string \\xf1'\n",
    "print(ustring)"
   ]
  },
  {
   "cell_type": "markdown",
   "metadata": {},
   "source": [
    "\"A unicode string is a different type of object from regular \"str\" string, but the unicode string is compatible (they share the common superclass \"basestring\"), and the various libraries such as regular expressions work correctly if passed a unicode string instead of a regular string.\n",
    "\n",
    "To convert a unicode string to bytes with an encoding such as **'utf-8'**, call the ustring.encode('utf-8') method on the unicode string. Going the other direction, the str(s, encoding) function converts encoded plain bytes to a unicode string.\""
   ]
  },
  {
   "cell_type": "code",
   "execution_count": 18,
   "metadata": {},
   "outputs": [
    {
     "name": "stdout",
     "output_type": "stream",
     "text": [
      "b'A unicode \\xc6\\x8e string \\xc3\\xb1'\n",
      "A unicode Ǝ string ñ\n"
     ]
    },
    {
     "data": {
      "text/plain": [
       "True"
      ]
     },
     "execution_count": 18,
     "metadata": {},
     "output_type": "execute_result"
    }
   ],
   "source": [
    "s = ustring.encode('utf-8')\n",
    "print(s) ## bytes of utf-8 encoding\n",
    "t = str(s, 'utf-8')\n",
    "print(t) ## convert bytes back to a unicode string\n",
    "t == ustring"
   ]
  },
  {
   "cell_type": "markdown",
   "metadata": {},
   "source": [
    "### If Statement"
   ]
  },
  {
   "cell_type": "markdown",
   "metadata": {},
   "source": [
    "\"Python uses the colon (:) and indentation/whitespace to group statements.\""
   ]
  },
  {
   "cell_type": "code",
   "execution_count": 19,
   "metadata": {},
   "outputs": [
    {
     "name": "stdout",
     "output_type": "stream",
     "text": [
      "Let's try to keep it under 80 ok?\n"
     ]
    }
   ],
   "source": [
    "speed = 77\n",
    "mood = 'good'\n",
    "\n",
    "if speed >= 80:\n",
    "    print('License and registration please')\n",
    "if mood == 'terrible' or speed >= 100:\n",
    "    print('You have the right to remain silent.')\n",
    "elif mood == 'bad' or speed >= 90:\n",
    "    print(\"I'm going to have to write you a ticket.\")\n",
    "    write_ticket()\n",
    "else:\n",
    "    print(\"Let's try to keep it under 80 ok?\")"
   ]
  },
  {
   "cell_type": "markdown",
   "metadata": {},
   "source": [
    "\"If the code is short, you can put the code on the same line after \":\".\""
   ]
  },
  {
   "cell_type": "code",
   "execution_count": 20,
   "metadata": {},
   "outputs": [
    {
     "name": "stdout",
     "output_type": "stream",
     "text": [
      "Have a nice day\n"
     ]
    }
   ],
   "source": [
    "if speed >= 80: print('You are so busted')\n",
    "else: print('Have a nice day')"
   ]
  },
  {
   "cell_type": "markdown",
   "metadata": {},
   "source": [
    "## Exercise: string1.py"
   ]
  },
  {
   "cell_type": "code",
   "execution_count": 21,
   "metadata": {},
   "outputs": [],
   "source": [
    "# A. donuts\n",
    "# Given an int count of a number of donuts, return a string\n",
    "# of the form 'Number of donuts: <count>', where <count> is the number\n",
    "# passed in. However, if the count is 10 or more, then use the word 'many'\n",
    "# instead of the actual count.\n",
    "# So donuts(5) returns 'Number of donuts: 5'\n",
    "# and donuts(23) returns 'Number of donuts: many'\n",
    "def donuts(count):\n",
    "  if count < 10:\n",
    "    return 'Number of donuts: %d' % (count)\n",
    "  else:\n",
    "    return 'Number of donuts: many'"
   ]
  },
  {
   "cell_type": "code",
   "execution_count": 22,
   "metadata": {},
   "outputs": [
    {
     "name": "stdout",
     "output_type": "stream",
     "text": [
      "Number of donuts: 5\n",
      "Number of donuts: many\n"
     ]
    }
   ],
   "source": [
    "print(donuts(5))\n",
    "print(donuts(23))"
   ]
  },
  {
   "cell_type": "code",
   "execution_count": 23,
   "metadata": {},
   "outputs": [],
   "source": [
    "# B. both_ends\n",
    "# Given a string s, return a string made of the first 2\n",
    "# and the last 2 chars of the original string,\n",
    "# so 'spring' yields 'spng'. However, if the string length\n",
    "# is less than 2, return instead the empty string.\n",
    "def both_ends(s):\n",
    "  if len(s) >= 2:\n",
    "    return s[:2] + s[-2:]\n",
    "  else:\n",
    "    return ''"
   ]
  },
  {
   "cell_type": "code",
   "execution_count": 24,
   "metadata": {},
   "outputs": [
    {
     "name": "stdout",
     "output_type": "stream",
     "text": [
      "spng\n",
      "\n"
     ]
    }
   ],
   "source": [
    "print(both_ends('spring'))\n",
    "print(both_ends('s'))"
   ]
  },
  {
   "cell_type": "code",
   "execution_count": 25,
   "metadata": {},
   "outputs": [],
   "source": [
    "# C. fix_start\n",
    "# Given a string s, return a string\n",
    "# where all occurences of its first char have\n",
    "# been changed to '*', except do not change\n",
    "# the first char itself.\n",
    "# e.g. 'babble' yields 'ba**le'\n",
    "# Assume that the string is length 1 or more.\n",
    "# Hint: s.replace(stra, strb) returns a version of string s\n",
    "# where all instances of stra have been replaced by strb.\n",
    "def fix_start(s):\n",
    "  first_char = s[0]\n",
    "  right_chars = s[1:]\n",
    "  replacer = right_chars.replace(first_char, '*')\n",
    "  return first_char + replacer"
   ]
  },
  {
   "cell_type": "code",
   "execution_count": 26,
   "metadata": {},
   "outputs": [
    {
     "data": {
      "text/plain": [
       "'ba**le'"
      ]
     },
     "execution_count": 26,
     "metadata": {},
     "output_type": "execute_result"
    }
   ],
   "source": [
    "fix_start('babble')"
   ]
  },
  {
   "cell_type": "code",
   "execution_count": 27,
   "metadata": {},
   "outputs": [],
   "source": [
    "# D. MixUp\n",
    "# Given strings a and b, return a single string with a and b separated\n",
    "# by a space '<a> <b>', except swap the first 2 chars of each string.\n",
    "# e.g.\n",
    "#   'mix', pod' -> 'pox mid'\n",
    "#   'dog', 'dinner' -> 'dig donner'\n",
    "# Assume a and b are length 2 or more.\n",
    "def mix_up(a, b):\n",
    "  a_swapped = b[:2] + a[2:]\n",
    "  b_swapped = a[:2] + b[2:]\n",
    "  return a_swapped + ' ' + b_swapped"
   ]
  },
  {
   "cell_type": "code",
   "execution_count": 28,
   "metadata": {},
   "outputs": [
    {
     "data": {
      "text/plain": [
       "'pox mid'"
      ]
     },
     "execution_count": 28,
     "metadata": {},
     "output_type": "execute_result"
    }
   ],
   "source": [
    "mix_up('mix', 'pod')"
   ]
  },
  {
   "cell_type": "code",
   "execution_count": 29,
   "metadata": {},
   "outputs": [
    {
     "name": "stdout",
     "output_type": "stream",
     "text": [
      "donuts\r\n",
      " OK  got: 'Number of donuts: 4' expected: 'Number of donuts: 4'\r\n",
      " OK  got: 'Number of donuts: 9' expected: 'Number of donuts: 9'\r\n",
      " OK  got: 'Number of donuts: many' expected: 'Number of donuts: many'\r\n",
      " OK  got: 'Number of donuts: many' expected: 'Number of donuts: many'\r\n",
      "both_ends\r\n",
      " OK  got: 'spng' expected: 'spng'\r\n",
      " OK  got: 'Helo' expected: 'Helo'\r\n",
      " OK  got: '' expected: ''\r\n",
      " OK  got: 'xyyz' expected: 'xyyz'\r\n",
      "fix_start\r\n",
      " OK  got: 'ba**le' expected: 'ba**le'\r\n",
      " OK  got: 'a*rdv*rk' expected: 'a*rdv*rk'\r\n",
      " OK  got: 'goo*le' expected: 'goo*le'\r\n",
      " OK  got: 'donut' expected: 'donut'\r\n",
      "mix_up\r\n",
      " OK  got: 'pox mid' expected: 'pox mid'\r\n",
      " OK  got: 'dig donner' expected: 'dig donner'\r\n",
      " OK  got: 'spash gnort' expected: 'spash gnort'\r\n",
      " OK  got: 'fizzy perm' expected: 'fizzy perm'\r\n"
     ]
    }
   ],
   "source": [
    "!python google-python-exercises/basic/string1.py"
   ]
  },
  {
   "cell_type": "code",
   "execution_count": 30,
   "metadata": {
    "scrolled": false
   },
   "outputs": [
    {
     "name": "stdout",
     "output_type": "stream",
     "text": [
      "#!/usr/bin/python -tt\r\n",
      "# Copyright 2010 Google Inc.\r\n",
      "# Licensed under the Apache License, Version 2.0\r\n",
      "# http://www.apache.org/licenses/LICENSE-2.0\r\n",
      "\r\n",
      "# Google's Python Class\r\n",
      "# http://code.google.com/edu/languages/google-python-class/\r\n",
      "\r\n",
      "# Basic string exercises\r\n",
      "# Fill in the code for the functions below. main() is already set up\r\n",
      "# to call the functions with a few different inputs,\r\n",
      "# printing 'OK' when each function is correct.\r\n",
      "# The starter code for each function includes a 'return'\r\n",
      "# which is just a placeholder for your code.\r\n",
      "# It's ok if you do not complete all the functions, and there\r\n",
      "# are some additional functions to try in string2.py.\r\n",
      "\r\n",
      "\r\n",
      "# A. donuts\r\n",
      "# Given an int count of a number of donuts, return a string\r\n",
      "# of the form 'Number of donuts: <count>', where <count> is the number\r\n",
      "# passed in. However, if the count is 10 or more, then use the word 'many'\r\n",
      "# instead of the actual count.\r\n",
      "# So donuts(5) returns 'Number of donuts: 5'\r\n",
      "# and donuts(23) returns 'Number of donuts: many'\r\n",
      "def donuts(count):\r\n",
      "  if count < 10:\r\n",
      "    return 'Number of donuts: %d' % (count)\r\n",
      "  else:\r\n",
      "    return 'Number of donuts: many'\r\n",
      "\r\n",
      "\r\n",
      "# B. both_ends\r\n",
      "# Given a string s, return a string made of the first 2\r\n",
      "# and the last 2 chars of the original string,\r\n",
      "# so 'spring' yields 'spng'. However, if the string length\r\n",
      "# is less than 2, return instead the empty string.\r\n",
      "def both_ends(s):\r\n",
      "  if len(s) >= 2:\r\n",
      "    return s[:2] + s[-2:]\r\n",
      "  else:\r\n",
      "    return ''\r\n",
      "\r\n",
      "\r\n",
      "# C. fix_start\r\n",
      "# Given a string s, return a string\r\n",
      "# where all occurences of its first char have\r\n",
      "# been changed to '*', except do not change\r\n",
      "# the first char itself.\r\n",
      "# e.g. 'babble' yields 'ba**le'\r\n",
      "# Assume that the string is length 1 or more.\r\n",
      "# Hint: s.replace(stra, strb) returns a version of string s\r\n",
      "# where all instances of stra have been replaced by strb.\r\n",
      "def fix_start(s):\r\n",
      "  first_char = s[0]\r\n",
      "  right_chars = s[1:]\r\n",
      "  replacer = right_chars.replace(first_char, '*')\r\n",
      "  return first_char + replacer\r\n",
      "\r\n",
      "\r\n",
      "# D. MixUp\r\n",
      "# Given strings a and b, return a single string with a and b separated\r\n",
      "# by a space '<a> <b>', except swap the first 2 chars of each string.\r\n",
      "# e.g.\r\n",
      "#   'mix', pod' -> 'pox mid'\r\n",
      "#   'dog', 'dinner' -> 'dig donner'\r\n",
      "# Assume a and b are length 2 or more.\r\n",
      "def mix_up(a, b):\r\n",
      "  a_swapped = b[:2] + a[2:]\r\n",
      "  b_swapped = a[:2] + b[2:]\r\n",
      "  return a_swapped + ' ' + b_swapped\r\n",
      "\r\n",
      "\r\n",
      "# Provided simple test() function used in main() to print\r\n",
      "# what each function returns vs. what it's supposed to return.\r\n",
      "def test(got, expected):\r\n",
      "  if got == expected:\r\n",
      "    prefix = ' OK '\r\n",
      "  else:\r\n",
      "    prefix = '  X '\r\n",
      "  print('%s got: %s expected: %s' % (prefix, repr(got), repr(expected)))\r\n",
      "\r\n",
      "\r\n",
      "# Provided main() calls the above functions with interesting inputs,\r\n",
      "# using test() to check if each result is correct or not.\r\n",
      "def main():\r\n",
      "  print('donuts')\r\n",
      "  # Each line calls donuts, compares its result to the expected for that call.\r\n",
      "  test(donuts(4), 'Number of donuts: 4')\r\n",
      "  test(donuts(9), 'Number of donuts: 9')\r\n",
      "  test(donuts(10), 'Number of donuts: many')\r\n",
      "  test(donuts(99), 'Number of donuts: many')\r\n",
      "\r\n",
      "\r\n",
      "  print('both_ends')\r\n",
      "  test(both_ends('spring'), 'spng')\r\n",
      "  test(both_ends('Hello'), 'Helo')\r\n",
      "  test(both_ends('a'), '')\r\n",
      "  test(both_ends('xyz'), 'xyyz')\r\n",
      "\r\n",
      "\r\n",
      "  print('fix_start')\r\n",
      "  test(fix_start('babble'), 'ba**le')\r\n",
      "  test(fix_start('aardvark'), 'a*rdv*rk')\r\n",
      "  test(fix_start('google'), 'goo*le')\r\n",
      "  test(fix_start('donut'), 'donut')\r\n",
      "\r\n",
      "\r\n",
      "  print('mix_up')\r\n",
      "  test(mix_up('mix', 'pod'), 'pox mid')\r\n",
      "  test(mix_up('dog', 'dinner'), 'dig donner')\r\n",
      "  test(mix_up('gnash', 'sport'), 'spash gnort')\r\n",
      "  test(mix_up('pezzy', 'firm'), 'fizzy perm')\r\n",
      "\r\n",
      "\r\n",
      "# Standard boilerplate to call the main() function.\r\n",
      "if __name__ == '__main__':\r\n",
      "  main()\r\n"
     ]
    }
   ],
   "source": [
    "!cat google-python-exercises/basic/string1.py"
   ]
  },
  {
   "cell_type": "markdown",
   "metadata": {},
   "source": [
    "## Exercise: string2.py"
   ]
  },
  {
   "cell_type": "code",
   "execution_count": 31,
   "metadata": {},
   "outputs": [],
   "source": [
    "# D. verbing\n",
    "# Given a string, if its length is at least 3,\n",
    "# add 'ing' to its end.\n",
    "# Unless it already ends in 'ing', in which case\n",
    "# add 'ly' instead.\n",
    "# If the string length is less than 3, leave it unchanged.\n",
    "# Return the resulting string.\n",
    "def verbing(s):\n",
    "  if len(s) >= 3:\n",
    "    if s[-3:] != 'ing':\n",
    "        s = s + 'ing'\n",
    "    else:\n",
    "        s = s + 'ly'\n",
    "  return s"
   ]
  },
  {
   "cell_type": "code",
   "execution_count": 32,
   "metadata": {},
   "outputs": [
    {
     "data": {
      "text/plain": [
       "'stringly'"
      ]
     },
     "execution_count": 32,
     "metadata": {},
     "output_type": "execute_result"
    }
   ],
   "source": [
    "verbing('string')"
   ]
  },
  {
   "cell_type": "code",
   "execution_count": 33,
   "metadata": {},
   "outputs": [],
   "source": [
    "# E. not_bad\n",
    "# Given a string, find the first appearance of the\n",
    "# substring 'not' and 'bad'. If the 'bad' follows\n",
    "# the 'not', replace the whole 'not'...'bad' substring\n",
    "# with 'good'.\n",
    "# Return the resulting string.\n",
    "# So 'This dinner is not that bad!' yields:\n",
    "# This dinner is good!\n",
    "def not_bad(s):\n",
    "  n = s.find('not')\n",
    "  b = s.find('bad')\n",
    "  if n != -1 and b != -1 and b > n:\n",
    "    s = s[:n] + 'good' + s[b+3:]\n",
    "  return s"
   ]
  },
  {
   "cell_type": "code",
   "execution_count": 34,
   "metadata": {},
   "outputs": [
    {
     "data": {
      "text/plain": [
       "'This dinner is good!'"
      ]
     },
     "execution_count": 34,
     "metadata": {},
     "output_type": "execute_result"
    }
   ],
   "source": [
    "not_bad('This dinner is not that bad!')"
   ]
  },
  {
   "cell_type": "code",
   "execution_count": 35,
   "metadata": {},
   "outputs": [],
   "source": [
    "# F. front_back\n",
    "# Consider dividing a string into two halves.\n",
    "# If the length is even, the front and back halves are the same length.\n",
    "# If the length is odd, we'll say that the extra char goes in the front half.\n",
    "# e.g. 'abcde', the front half is 'abc', the back half 'de'.\n",
    "# Given 2 strings, a and b, return a string of the form\n",
    "#  a-front + b-front + a-back + b-back\n",
    "def front_back(a, b):\n",
    "  a_middle = int(len(a) / 2)\n",
    "  b_middle = int(len(b) / 2)\n",
    "  if len(a) % 2 == 1:\n",
    "    a_middle = a_middle + 1\n",
    "  if len(b) % 2 == 1:\n",
    "    b_middle = b_middle + 1 \n",
    "  return a[:a_middle] + b[:b_middle] + a[a_middle:] + b[b_middle:]"
   ]
  },
  {
   "cell_type": "code",
   "execution_count": 36,
   "metadata": {},
   "outputs": [
    {
     "data": {
      "text/plain": [
       "'abxcdy'"
      ]
     },
     "execution_count": 36,
     "metadata": {},
     "output_type": "execute_result"
    }
   ],
   "source": [
    "front_back('abcd', 'xy')"
   ]
  },
  {
   "cell_type": "code",
   "execution_count": 37,
   "metadata": {},
   "outputs": [
    {
     "name": "stdout",
     "output_type": "stream",
     "text": [
      "verbing\r\n",
      " OK  got: 'hailing' expected: 'hailing'\r\n",
      " OK  got: 'swimingly' expected: 'swimingly'\r\n",
      " OK  got: 'do' expected: 'do'\r\n",
      "not_bad\r\n",
      " OK  got: 'This movie is good' expected: 'This movie is good'\r\n",
      " OK  got: 'This dinner is good!' expected: 'This dinner is good!'\r\n",
      " OK  got: 'This tea is not hot' expected: 'This tea is not hot'\r\n",
      " OK  got: \"It's bad yet not\" expected: \"It's bad yet not\"\r\n",
      "front_back\r\n",
      " OK  got: 'abxcdy' expected: 'abxcdy'\r\n",
      " OK  got: 'abcxydez' expected: 'abcxydez'\r\n",
      " OK  got: 'KitDontenut' expected: 'KitDontenut'\r\n"
     ]
    }
   ],
   "source": [
    "!python google-python-exercises/basic/string2.py"
   ]
  },
  {
   "cell_type": "code",
   "execution_count": 38,
   "metadata": {},
   "outputs": [
    {
     "name": "stdout",
     "output_type": "stream",
     "text": [
      "#!/usr/bin/python2.4 -tt\r\n",
      "# Copyright 2010 Google Inc.\r\n",
      "# Licensed under the Apache License, Version 2.0\r\n",
      "# http://www.apache.org/licenses/LICENSE-2.0\r\n",
      "\r\n",
      "# Google's Python Class\r\n",
      "# http://code.google.com/edu/languages/google-python-class/\r\n",
      "\r\n",
      "# Additional basic string exercises\r\n",
      "\r\n",
      "# D. verbing\r\n",
      "# Given a string, if its length is at least 3,\r\n",
      "# add 'ing' to its end.\r\n",
      "# Unless it already ends in 'ing', in which case\r\n",
      "# add 'ly' instead.\r\n",
      "# If the string length is less than 3, leave it unchanged.\r\n",
      "# Return the resulting string.\r\n",
      "def verbing(s):\r\n",
      "  if len(s) >= 3:\r\n",
      "    if s[-3:] != 'ing':\r\n",
      "        s = s + 'ing'\r\n",
      "    else:\r\n",
      "        s = s + 'ly'\r\n",
      "  return s\r\n",
      "\r\n",
      "\r\n",
      "# E. not_bad\r\n",
      "# Given a string, find the first appearance of the\r\n",
      "# substring 'not' and 'bad'. If the 'bad' follows\r\n",
      "# the 'not', replace the whole 'not'...'bad' substring\r\n",
      "# with 'good'.\r\n",
      "# Return the resulting string.\r\n",
      "# So 'This dinner is not that bad!' yields:\r\n",
      "# This dinner is good!\r\n",
      "def not_bad(s):\r\n",
      "  n = s.find('not')\r\n",
      "  b = s.find('bad')\r\n",
      "  if n != -1 and b != -1 and b > n:\r\n",
      "    s = s[:n] + 'good' + s[b+3:]\r\n",
      "  return s\r\n",
      "\r\n",
      "\r\n",
      "# F. front_back\r\n",
      "# Consider dividing a string into two halves.\r\n",
      "# If the length is even, the front and back halves are the same length.\r\n",
      "# If the length is odd, we'll say that the extra char goes in the front half.\r\n",
      "# e.g. 'abcde', the front half is 'abc', the back half 'de'.\r\n",
      "# Given 2 strings, a and b, return a string of the form\r\n",
      "#  a-front + b-front + a-back + b-back\r\n",
      "def front_back(a, b):\r\n",
      "  a_middle = int(len(a) / 2)\r\n",
      "  b_middle = int(len(b) / 2)\r\n",
      "  if len(a) % 2 == 1:\r\n",
      "    a_middle = a_middle + 1\r\n",
      "  if len(b) % 2 == 1:\r\n",
      "    b_middle = b_middle + 1 \r\n",
      "  return a[:a_middle] + b[:b_middle] + a[a_middle:] + b[b_middle:]\r\n",
      "\r\n",
      "\r\n",
      "# Simple provided test() function used in main() to print\r\n",
      "# what each function returns vs. what it's supposed to return.\r\n",
      "def test(got, expected):\r\n",
      "  if got == expected:\r\n",
      "    prefix = ' OK '\r\n",
      "  else:\r\n",
      "    prefix = '  X '\r\n",
      "  print('%s got: %s expected: %s' % (prefix, repr(got), repr(expected)))\r\n",
      "\r\n",
      "\r\n",
      "# main() calls the above functions with interesting inputs,\r\n",
      "# using the above test() to check if the result is correct or not.\r\n",
      "def main():\r\n",
      "  print('verbing')\r\n",
      "  test(verbing('hail'), 'hailing')\r\n",
      "  test(verbing('swiming'), 'swimingly')\r\n",
      "  test(verbing('do'), 'do')\r\n",
      "\r\n",
      "\r\n",
      "  print('not_bad')\r\n",
      "  test(not_bad('This movie is not so bad'), 'This movie is good')\r\n",
      "  test(not_bad('This dinner is not that bad!'), 'This dinner is good!')\r\n",
      "  test(not_bad('This tea is not hot'), 'This tea is not hot')\r\n",
      "  test(not_bad(\"It's bad yet not\"), \"It's bad yet not\")\r\n",
      "\r\n",
      "\r\n",
      "  print('front_back')\r\n",
      "  test(front_back('abcd', 'xy'), 'abxcdy')\r\n",
      "  test(front_back('abcde', 'xyz'), 'abcxydez')\r\n",
      "  test(front_back('Kitten', 'Donut'), 'KitDontenut')\r\n",
      "\r\n",
      "if __name__ == '__main__':\r\n",
      "  main()\r\n"
     ]
    }
   ],
   "source": [
    "!cat google-python-exercises/basic/string2.py"
   ]
  },
  {
   "cell_type": "markdown",
   "metadata": {},
   "source": [
    "# Lists"
   ]
  },
  {
   "cell_type": "code",
   "execution_count": 39,
   "metadata": {},
   "outputs": [
    {
     "name": "stdout",
     "output_type": "stream",
     "text": [
      "red\n",
      "green\n",
      "3\n"
     ]
    }
   ],
   "source": [
    "colors = ['red', 'blue', 'green']\n",
    "print(colors[0])\n",
    "print(colors[2])\n",
    "print(len(colors))"
   ]
  },
  {
   "cell_type": "markdown",
   "metadata": {},
   "source": [
    "\"Assignment with an = on lists does not make a copy. Instead, assignment makes the two variables point to the one list in memory.\""
   ]
  },
  {
   "cell_type": "code",
   "execution_count": 40,
   "metadata": {},
   "outputs": [],
   "source": [
    "b = colors"
   ]
  },
  {
   "cell_type": "markdown",
   "metadata": {},
   "source": [
    "\"Makes a copy.\""
   ]
  },
  {
   "cell_type": "code",
   "execution_count": 41,
   "metadata": {},
   "outputs": [
    {
     "data": {
      "text/plain": [
       "False"
      ]
     },
     "execution_count": 41,
     "metadata": {},
     "output_type": "execute_result"
    }
   ],
   "source": [
    "a = colors[:]\n",
    "a[0] = 'purple'\n",
    "a == b"
   ]
  },
  {
   "cell_type": "markdown",
   "metadata": {},
   "source": [
    "### FOR and IN"
   ]
  },
  {
   "cell_type": "markdown",
   "metadata": {},
   "source": [
    "\"The *for* construct -- ```for var in list``` -- is an easy way to look at each element in a list (or other collection). Do not add or remove from the list during iteration.\""
   ]
  },
  {
   "cell_type": "code",
   "execution_count": 42,
   "metadata": {},
   "outputs": [
    {
     "name": "stdout",
     "output_type": "stream",
     "text": [
      "30\n"
     ]
    }
   ],
   "source": [
    "squares = [1, 4, 9, 16]\n",
    "sum = 0\n",
    "for num in squares:\n",
    "  sum += num\n",
    "print(sum)"
   ]
  },
  {
   "cell_type": "markdown",
   "metadata": {},
   "source": [
    "\"The *in* construct on its own is an easy way to test if an element appears in a list (or other collection) -- ```value in collection``` -- tests if the value is in the collection, returning True/False.\""
   ]
  },
  {
   "cell_type": "code",
   "execution_count": 43,
   "metadata": {},
   "outputs": [
    {
     "name": "stdout",
     "output_type": "stream",
     "text": [
      "yay\n"
     ]
    }
   ],
   "source": [
    "list = ['larry', 'curly', 'moe']\n",
    "if 'curly' in list:\n",
    "  print('yay')"
   ]
  },
  {
   "cell_type": "markdown",
   "metadata": {},
   "source": [
    "### Range"
   ]
  },
  {
   "cell_type": "markdown",
   "metadata": {},
   "source": [
    "\"The **range(n)** function yields the numbers 0, 1, ... n-1, and range(a, b) returns a, a+1, ... b-1 -- up to but not including the last number. The combination of the for-loop and the range() function allow you to build a traditional numeric for loop.\""
   ]
  },
  {
   "cell_type": "code",
   "execution_count": 44,
   "metadata": {},
   "outputs": [
    {
     "name": "stdout",
     "output_type": "stream",
     "text": [
      "0\n",
      "1\n",
      "2\n",
      "3\n",
      "4\n",
      "5\n",
      "6\n",
      "7\n",
      "8\n",
      "9\n"
     ]
    }
   ],
   "source": [
    "for i in range(10):\n",
    "  print(i)"
   ]
  },
  {
   "cell_type": "code",
   "execution_count": 45,
   "metadata": {},
   "outputs": [
    {
     "name": "stdout",
     "output_type": "stream",
     "text": [
      "1\n",
      "2\n"
     ]
    }
   ],
   "source": [
    "for i in range(1, 3):\n",
    "  print(i)"
   ]
  },
  {
   "cell_type": "markdown",
   "metadata": {},
   "source": [
    "### While Loop"
   ]
  },
  {
   "cell_type": "markdown",
   "metadata": {},
   "source": [
    "\"The above for/in loops solves the common case of iterating over every element in a list, but the while loop gives you total control over the index numbers. Here's a while loop which accesses every 3rd element in a list.\""
   ]
  },
  {
   "cell_type": "code",
   "execution_count": 46,
   "metadata": {},
   "outputs": [
    {
     "name": "stdout",
     "output_type": "stream",
     "text": [
      "0\n",
      "3\n",
      "6\n",
      "9\n"
     ]
    }
   ],
   "source": [
    "a = [0, 1, 2, 3, 4, 5, 6, 7, 8, 9, 10]\n",
    "i = 0\n",
    "while i < len(a):\n",
    "  print(a[i])\n",
    "  i = i + 3"
   ]
  },
  {
   "cell_type": "markdown",
   "metadata": {},
   "source": [
    "### List Methods"
   ]
  },
  {
   "cell_type": "markdown",
   "metadata": {},
   "source": [
    "\"Here are some other common list methods.\n",
    "\n",
    "- list.append(elem) -- adds a single element to the end of the list. Common error: does not return the new list, just modifies the original.\n",
    "- list.insert(index, elem) -- inserts the element at the given index, shifting elements to the right.\n",
    "- list.extend(list2) adds the elements in list2 to the end of the list. Using + or += on a list is similar to using extend().\n",
    "- list.index(elem) -- searches for the given element from the start of the list and returns its index. Throws a ValueError if the element does not appear (use \"in\" to check without a ValueError).\n",
    "- list.remove(elem) -- searches for the first instance of the given element and removes it (throws ValueError if not present)\n",
    "- list.sort() -- sorts the list in place (does not return it). (The sorted() function shown later is preferred.)\n",
    "- list.reverse() -- reverses the list in place (does not return it)\n",
    "- list.pop(index) -- removes and returns the element at the given index. Returns the rightmost element if index is omitted (roughly the opposite of append()).\"\n",
    "\n",
    "\"Notice that these are *methods* on a list object, while len() is a function that takes the list (or string or whatever) as an argument.\""
   ]
  },
  {
   "cell_type": "code",
   "execution_count": 47,
   "metadata": {},
   "outputs": [
    {
     "name": "stdout",
     "output_type": "stream",
     "text": [
      "['xxx', 'larry', 'curly', 'moe', 'shemp', 'yyy', 'zzz']\n",
      "2\n",
      "['xxx', 'moe', 'shemp', 'yyy', 'zzz']\n"
     ]
    }
   ],
   "source": [
    "l = ['larry', 'curly', 'moe']\n",
    "l.append('shemp')\n",
    "l.insert(0, 'xxx')\n",
    "l.extend(['yyy', 'zzz'])\n",
    "print(l)\n",
    "print(l.index('curly'))\n",
    "\n",
    "l.remove('curly')\n",
    "l.pop(1)\n",
    "print(l)"
   ]
  },
  {
   "cell_type": "markdown",
   "metadata": {},
   "source": [
    "\"Common error: note that the above methods do not *return* the modified list, they just modify the original list.\""
   ]
  },
  {
   "cell_type": "markdown",
   "metadata": {},
   "source": [
    "### List Build Up"
   ]
  },
  {
   "cell_type": "markdown",
   "metadata": {},
   "source": [
    "\"One common pattern is to start a list a the empty list **[]**, then use append() or extend() to add elements to it.\""
   ]
  },
  {
   "cell_type": "code",
   "execution_count": 48,
   "metadata": {},
   "outputs": [
    {
     "name": "stdout",
     "output_type": "stream",
     "text": [
      "['a', 'b']\n"
     ]
    }
   ],
   "source": [
    "l = []\n",
    "l.append('a')\n",
    "l.append('b')\n",
    "print(l)"
   ]
  },
  {
   "cell_type": "markdown",
   "metadata": {},
   "source": [
    "### List Slices"
   ]
  },
  {
   "cell_type": "code",
   "execution_count": 49,
   "metadata": {},
   "outputs": [
    {
     "name": "stdout",
     "output_type": "stream",
     "text": [
      "['b', 'c']\n",
      "['z', 'c', 'd']\n"
     ]
    }
   ],
   "source": [
    "l = ['a', 'b', 'c', 'd']\n",
    "print(l[1:-1])\n",
    "l[0:2] = 'z'\n",
    "print(l)"
   ]
  },
  {
   "cell_type": "markdown",
   "metadata": {},
   "source": [
    "# Sorting"
   ]
  },
  {
   "cell_type": "markdown",
   "metadata": {},
   "source": [
    "\"The **sorted()** function can be customized through optional arguments. The sorted() optional argument reverse=True, e.g. ```sorted(list, reverse=True)```, makes it sort backwards in **descending** (high to low) order; **ascending** (low to high) order is default.\""
   ]
  },
  {
   "cell_type": "code",
   "execution_count": 50,
   "metadata": {},
   "outputs": [
    {
     "name": "stdout",
     "output_type": "stream",
     "text": [
      "['BB', 'CC', 'aa', 'zz']\n",
      "['zz', 'aa', 'CC', 'BB']\n",
      "[1, 2, 3, 4]\n",
      "[4, 3, 2, 1]\n"
     ]
    }
   ],
   "source": [
    "strs = ['aa', 'BB', 'zz', 'CC']\n",
    "nums = [1, 2, 3, 4]\n",
    "print(sorted(strs))\n",
    "print(sorted(strs, reverse=True))\n",
    "print(sorted(nums))\n",
    "print(sorted(nums, reverse=True))"
   ]
  },
  {
   "cell_type": "markdown",
   "metadata": {},
   "source": [
    "### Custom Sorting With key="
   ]
  },
  {
   "cell_type": "markdown",
   "metadata": {},
   "source": [
    "\"Sorted() takes an optional **\"key=\"** specifying a \"key\" function that transforms each element before comparison. The key function takes in 1 value and returns 1 value, and the returned \"proxy\" value is used for the comparisons within the sort.\""
   ]
  },
  {
   "cell_type": "code",
   "execution_count": 51,
   "metadata": {},
   "outputs": [
    {
     "name": "stdout",
     "output_type": "stream",
     "text": [
      "['d', 'bb', 'ccc', 'aaaa']\n",
      "['aaaa', 'bb', 'ccc', 'd']\n"
     ]
    }
   ],
   "source": [
    "strs = ['ccc', 'aaaa', 'd', 'bb']\n",
    "print(sorted(strs, key=len))\n",
    "print(sorted(strs, key=str.lower))"
   ]
  },
  {
   "cell_type": "markdown",
   "metadata": {},
   "source": [
    "\"To use *key=* custom sorting, remember that you provide a function that takes one value and returns the proxy value to guide the sorting.\""
   ]
  },
  {
   "cell_type": "code",
   "execution_count": 52,
   "metadata": {},
   "outputs": [
    {
     "name": "stdout",
     "output_type": "stream",
     "text": [
      "['wa', 'zb', 'xc', 'yd']\n"
     ]
    }
   ],
   "source": [
    "strs = ['xc', 'zb', 'yd' ,'wa']\n",
    "\n",
    "def MyFn(s):\n",
    "  return s[-1]\n",
    "\n",
    "print(sorted(strs, key=MyFn))"
   ]
  },
  {
   "cell_type": "markdown",
   "metadata": {},
   "source": [
    "# Tuples"
   ]
  },
  {
   "cell_type": "markdown",
   "metadata": {},
   "source": [
    "\"A *tuple* is a fixed size grouping of elements, such as an **(x, y)** co-ordinate. Tuples are like lists, except they are immutable and do not change size. Tuples play a sort of \"struct\" role in Python -- a convenient way to pass around a little logical, fixed size bundle of values.\""
   ]
  },
  {
   "cell_type": "code",
   "execution_count": 53,
   "metadata": {},
   "outputs": [
    {
     "name": "stdout",
     "output_type": "stream",
     "text": [
      "3\n",
      "hi\n",
      "(1, 2, 'bye')\n"
     ]
    }
   ],
   "source": [
    "tuple = (1, 2, 'hi')\n",
    "print(len(tuple))\n",
    "print(tuple[2])\n",
    "#tuple[2] = 'bye' # NO, tuples cannot be changed\n",
    "tuple = (1, 2, 'bye') # this works\n",
    "print(tuple)"
   ]
  },
  {
   "cell_type": "markdown",
   "metadata": {},
   "source": [
    "\"Size-1 tuple - the comma is necessary to distinguish the tuple from the ordinary case of putting an expression in parentheses.\""
   ]
  },
  {
   "cell_type": "code",
   "execution_count": 54,
   "metadata": {},
   "outputs": [
    {
     "name": "stdout",
     "output_type": "stream",
     "text": [
      "('hi',)\n"
     ]
    }
   ],
   "source": [
    "tuple = ('hi',)\n",
    "print(tuple)"
   ]
  },
  {
   "cell_type": "code",
   "execution_count": 55,
   "metadata": {},
   "outputs": [
    {
     "name": "stdout",
     "output_type": "stream",
     "text": [
      "hike\n"
     ]
    }
   ],
   "source": [
    "(x, y, z) = (42, 13, \"hike\")\n",
    "print(z)"
   ]
  },
  {
   "cell_type": "markdown",
   "metadata": {},
   "source": [
    "# List Comprehensions"
   ]
  },
  {
   "cell_type": "markdown",
   "metadata": {},
   "source": [
    "\"A *list comprehension* is a compact way to write an expression that expands to a whole list.\""
   ]
  },
  {
   "cell_type": "code",
   "execution_count": 56,
   "metadata": {},
   "outputs": [],
   "source": [
    "nums = [1, 2, 3, 4]\n",
    "squares = [ n * n for n in nums ]"
   ]
  },
  {
   "cell_type": "markdown",
   "metadata": {},
   "source": [
    "\"The syntax is ```[ expr for var in list ]``` -- the ```for var in list``` looks like a regular for-loop, but without the colon (:). The expr to its left is evaluated once for each element to give the values for the new list. Here is an example with strings, where each string is changed to upper case with '!!!' appended:\""
   ]
  },
  {
   "cell_type": "code",
   "execution_count": 57,
   "metadata": {},
   "outputs": [
    {
     "name": "stdout",
     "output_type": "stream",
     "text": [
      "['HELLO!!!', 'AND!!!', 'GOODBYE!!!']\n"
     ]
    }
   ],
   "source": [
    "strs = ['hello', 'and', 'goodbye']\n",
    "shouting = [ s.upper() + '!!!' for s in strs ]\n",
    "print(shouting)"
   ]
  },
  {
   "cell_type": "code",
   "execution_count": 58,
   "metadata": {},
   "outputs": [
    {
     "name": "stdout",
     "output_type": "stream",
     "text": [
      "[2, 1]\n",
      "['APPLE', 'BANANA']\n"
     ]
    }
   ],
   "source": [
    "nums = [2, 8, 1, 6]\n",
    "small = [ n for n in nums if n <= 2 ]\n",
    "print(small)\n",
    "\n",
    "fruits = ['apple', 'cherry', 'banana', 'lemon']\n",
    "afruits = [ s.upper() for s in fruits if 'a' in s ]\n",
    "print(afruits)"
   ]
  },
  {
   "cell_type": "markdown",
   "metadata": {},
   "source": [
    "## Exercise: list1.py"
   ]
  },
  {
   "cell_type": "code",
   "execution_count": 59,
   "metadata": {},
   "outputs": [],
   "source": [
    "# A. match_ends\n",
    "# Given a list of strings, return the count of the number of\n",
    "# strings where the string length is 2 or more and the first\n",
    "# and last chars of the string are the same.\n",
    "# Note: python does not have a ++ operator, but += works.\n",
    "def match_ends(words):\n",
    "  count = 0\n",
    "  for i in words:\n",
    "    if len(i) >= 2 and i[0] == i[-1]:\n",
    "      count = count + 1\n",
    "  return count"
   ]
  },
  {
   "cell_type": "code",
   "execution_count": 60,
   "metadata": {},
   "outputs": [
    {
     "data": {
      "text/plain": [
       "3"
      ]
     },
     "execution_count": 60,
     "metadata": {},
     "output_type": "execute_result"
    }
   ],
   "source": [
    "match_ends(['aaa', 'bbb', 'ccc', 'abc'])"
   ]
  },
  {
   "cell_type": "code",
   "execution_count": 61,
   "metadata": {},
   "outputs": [],
   "source": [
    "# B. front_x\n",
    "# Given a list of strings, return a list with the strings\n",
    "# in sorted order, except group all the strings that begin with 'x' first.\n",
    "# e.g. ['mix', 'xyz', 'apple', 'xanadu', 'aardvark'] yields\n",
    "# ['xanadu', 'xyz', 'aardvark', 'apple', 'mix']\n",
    "# Hint: this can be done by making 2 lists and sorting each of them\n",
    "# before combining them.\n",
    "def front_x(words):\n",
    "  x_list = []\n",
    "  other_list = []\n",
    "  for i in words:\n",
    "    if i.startswith('x'):\n",
    "      x_list.append(i)\n",
    "    else:\n",
    "      other_list.append(i)\n",
    "  return sorted(x_list) + sorted(other_list)"
   ]
  },
  {
   "cell_type": "code",
   "execution_count": 62,
   "metadata": {},
   "outputs": [
    {
     "data": {
      "text/plain": [
       "['xanadu', 'xyz', 'aardvark', 'apple', 'mix']"
      ]
     },
     "execution_count": 62,
     "metadata": {},
     "output_type": "execute_result"
    }
   ],
   "source": [
    "front_x(['mix', 'xyz', 'apple', 'xanadu', 'aardvark'])"
   ]
  },
  {
   "cell_type": "code",
   "execution_count": 63,
   "metadata": {},
   "outputs": [],
   "source": [
    "# C. sort_last\n",
    "# Given a list of non-empty tuples, return a list sorted in increasing\n",
    "# order by the last element in each tuple.\n",
    "# e.g. [(1, 7), (1, 3), (3, 4, 5), (2, 2)] yields\n",
    "# [(2, 2), (1, 3), (3, 4, 5), (1, 7)]\n",
    "# Hint: use a custom key= function to extract the last element form each tuple.\n",
    "def last(a):\n",
    "  return a[-1]\n",
    "\n",
    "def sort_last(tuples):\n",
    "  return sorted(tuples, key=last)"
   ]
  },
  {
   "cell_type": "code",
   "execution_count": 64,
   "metadata": {},
   "outputs": [
    {
     "data": {
      "text/plain": [
       "[(2, 2), (1, 3), (3, 4, 5), (1, 7)]"
      ]
     },
     "execution_count": 64,
     "metadata": {},
     "output_type": "execute_result"
    }
   ],
   "source": [
    "sort_last([(1, 7), (1, 3), (3, 4, 5), (2, 2)])"
   ]
  },
  {
   "cell_type": "code",
   "execution_count": 65,
   "metadata": {},
   "outputs": [
    {
     "name": "stdout",
     "output_type": "stream",
     "text": [
      "match_ends\r\n",
      " OK  got: 3 expected: 3\r\n",
      " OK  got: 2 expected: 2\r\n",
      " OK  got: 1 expected: 1\r\n",
      "front_x\r\n",
      " OK  got: ['xaa', 'xzz', 'axx', 'bbb', 'ccc'] expected: ['xaa', 'xzz', 'axx', 'bbb', 'ccc']\r\n",
      " OK  got: ['xaa', 'xcc', 'aaa', 'bbb', 'ccc'] expected: ['xaa', 'xcc', 'aaa', 'bbb', 'ccc']\r\n",
      " OK  got: ['xanadu', 'xyz', 'aardvark', 'apple', 'mix'] expected: ['xanadu', 'xyz', 'aardvark', 'apple', 'mix']\r\n",
      "sort_last\r\n",
      " OK  got: [(2, 1), (3, 2), (1, 3)] expected: [(2, 1), (3, 2), (1, 3)]\r\n",
      " OK  got: [(3, 1), (1, 2), (2, 3)] expected: [(3, 1), (1, 2), (2, 3)]\r\n",
      " OK  got: [(2, 2), (1, 3), (3, 4, 5), (1, 7)] expected: [(2, 2), (1, 3), (3, 4, 5), (1, 7)]\r\n"
     ]
    }
   ],
   "source": [
    "!python google-python-exercises/basic/list1.py"
   ]
  },
  {
   "cell_type": "code",
   "execution_count": 66,
   "metadata": {},
   "outputs": [
    {
     "name": "stdout",
     "output_type": "stream",
     "text": [
      "#!/usr/bin/python -tt\r\n",
      "# Copyright 2010 Google Inc.\r\n",
      "# Licensed under the Apache License, Version 2.0\r\n",
      "# http://www.apache.org/licenses/LICENSE-2.0\r\n",
      "\r\n",
      "# Google's Python Class\r\n",
      "# http://code.google.com/edu/languages/google-python-class/\r\n",
      "\r\n",
      "# Basic list exercises\r\n",
      "# Fill in the code for the functions below. main() is already set up\r\n",
      "# to call the functions with a few different inputs,\r\n",
      "# printing 'OK' when each function is correct.\r\n",
      "# The starter code for each function includes a 'return'\r\n",
      "# which is just a placeholder for your code.\r\n",
      "# It's ok if you do not complete all the functions, and there\r\n",
      "# are some additional functions to try in list2.py.\r\n",
      "\r\n",
      "# A. match_ends\r\n",
      "# Given a list of strings, return the count of the number of\r\n",
      "# strings where the string length is 2 or more and the first\r\n",
      "# and last chars of the string are the same.\r\n",
      "# Note: python does not have a ++ operator, but += works.\r\n",
      "def match_ends(words):\r\n",
      "  count = 0\r\n",
      "  for i in words:\r\n",
      "    if len(i) >= 2 and i[0] == i[-1]:\r\n",
      "      count = count + 1\r\n",
      "  return count\r\n",
      "\r\n",
      "\r\n",
      "# B. front_x\r\n",
      "# Given a list of strings, return a list with the strings\r\n",
      "# in sorted order, except group all the strings that begin with 'x' first.\r\n",
      "# e.g. ['mix', 'xyz', 'apple', 'xanadu', 'aardvark'] yields\r\n",
      "# ['xanadu', 'xyz', 'aardvark', 'apple', 'mix']\r\n",
      "# Hint: this can be done by making 2 lists and sorting each of them\r\n",
      "# before combining them.\r\n",
      "def front_x(words):\r\n",
      "  x_list = []\r\n",
      "  other_list = []\r\n",
      "  for i in words:\r\n",
      "    if i.startswith('x'):\r\n",
      "      x_list.append(i)\r\n",
      "    else:\r\n",
      "      other_list.append(i)\r\n",
      "  return sorted(x_list) + sorted(other_list)\r\n",
      "\r\n",
      "\r\n",
      "# C. sort_last\r\n",
      "# Given a list of non-empty tuples, return a list sorted in increasing\r\n",
      "# order by the last element in each tuple.\r\n",
      "# e.g. [(1, 7), (1, 3), (3, 4, 5), (2, 2)] yields\r\n",
      "# [(2, 2), (1, 3), (3, 4, 5), (1, 7)]\r\n",
      "# Hint: use a custom key= function to extract the last element form each tuple.\r\n",
      "def last(a):\r\n",
      "  return a[-1]\r\n",
      "\r\n",
      "def sort_last(tuples):\r\n",
      "  return sorted(tuples, key=last)\r\n",
      "\r\n",
      "\r\n",
      "# Simple provided test() function used in main() to print\r\n",
      "# what each function returns vs. what it's supposed to return.\r\n",
      "def test(got, expected):\r\n",
      "  if got == expected:\r\n",
      "    prefix = ' OK '\r\n",
      "  else:\r\n",
      "    prefix = '  X '\r\n",
      "  print('%s got: %s expected: %s' % (prefix, repr(got), repr(expected)))\r\n",
      "\r\n",
      "\r\n",
      "# Calls the above functions with interesting inputs.\r\n",
      "def main():\r\n",
      "  print('match_ends')\r\n",
      "  test(match_ends(['aba', 'xyz', 'aa', 'x', 'bbb']), 3)\r\n",
      "  test(match_ends(['', 'x', 'xy', 'xyx', 'xx']), 2)\r\n",
      "  test(match_ends(['aaa', 'be', 'abc', 'hello']), 1)\r\n",
      "\r\n",
      "\r\n",
      "  print('front_x')\r\n",
      "  test(front_x(['bbb', 'ccc', 'axx', 'xzz', 'xaa']),\r\n",
      "       ['xaa', 'xzz', 'axx', 'bbb', 'ccc'])\r\n",
      "  test(front_x(['ccc', 'bbb', 'aaa', 'xcc', 'xaa']),\r\n",
      "       ['xaa', 'xcc', 'aaa', 'bbb', 'ccc'])\r\n",
      "  test(front_x(['mix', 'xyz', 'apple', 'xanadu', 'aardvark']),\r\n",
      "       ['xanadu', 'xyz', 'aardvark', 'apple', 'mix'])\r\n",
      "\r\n",
      "       \r\n",
      "  print('sort_last')\r\n",
      "  test(sort_last([(1, 3), (3, 2), (2, 1)]),\r\n",
      "       [(2, 1), (3, 2), (1, 3)])\r\n",
      "  test(sort_last([(2, 3), (1, 2), (3, 1)]),\r\n",
      "       [(3, 1), (1, 2), (2, 3)])\r\n",
      "  test(sort_last([(1, 7), (1, 3), (3, 4, 5), (2, 2)]),\r\n",
      "       [(2, 2), (1, 3), (3, 4, 5), (1, 7)])\r\n",
      "\r\n",
      "\r\n",
      "if __name__ == '__main__':\r\n",
      "  main()\r\n"
     ]
    }
   ],
   "source": [
    "!cat google-python-exercises/basic/list1.py"
   ]
  },
  {
   "cell_type": "markdown",
   "metadata": {},
   "source": [
    "## Exercise: list2.py"
   ]
  },
  {
   "cell_type": "code",
   "execution_count": 67,
   "metadata": {},
   "outputs": [],
   "source": [
    "# D. Given a list of numbers, return a list where\n",
    "# all adjacent == elements have been reduced to a single element,\n",
    "# so [1, 2, 2, 3] returns [1, 2, 3]. You may create a new list or\n",
    "# modify the passed in list.\n",
    "def remove_adjacent(nums):\n",
    "  result = []\n",
    "  for num in nums:\n",
    "    if len(result) == 0 or num != result[-1]:\n",
    "      result.append(num)\n",
    "  return result"
   ]
  },
  {
   "cell_type": "code",
   "execution_count": 68,
   "metadata": {},
   "outputs": [
    {
     "data": {
      "text/plain": [
       "[1, 2, 3]"
      ]
     },
     "execution_count": 68,
     "metadata": {},
     "output_type": "execute_result"
    }
   ],
   "source": [
    "remove_adjacent([1, 2, 2, 3])"
   ]
  },
  {
   "cell_type": "code",
   "execution_count": 69,
   "metadata": {},
   "outputs": [],
   "source": [
    "# E. Given two lists sorted in increasing order, create and return a merged\n",
    "# list of all the elements in sorted order. You may modify the passed in lists.\n",
    "# Ideally, the solution should work in \"linear\" time, making a single\n",
    "# pass of both lists.\n",
    "def linear_merge(list1, list2):\n",
    "  result = []\n",
    "  # Look at the two lists so long as both are non-empty.\n",
    "  # Take whichever element [0] is smaller.\n",
    "  while len(list1) and len(list2):\n",
    "    if list1[0] < list2[0]:\n",
    "      result.append(list1.pop(0))\n",
    "    else:\n",
    "      result.append(list2.pop(0))\n",
    "\n",
    "  result.extend(list1)\n",
    "  result.extend(list2)\n",
    "  return result"
   ]
  },
  {
   "cell_type": "code",
   "execution_count": 70,
   "metadata": {},
   "outputs": [
    {
     "data": {
      "text/plain": [
       "['aa', 'aa', 'bb', 'cc', 'xx', 'xx', 'zz', 'zz']"
      ]
     },
     "execution_count": 70,
     "metadata": {},
     "output_type": "execute_result"
    }
   ],
   "source": [
    "linear_merge(['aa', 'xx', 'zz'], ['aa', 'bb', 'cc', 'xx', 'zz'])"
   ]
  },
  {
   "cell_type": "code",
   "execution_count": 71,
   "metadata": {},
   "outputs": [
    {
     "name": "stdout",
     "output_type": "stream",
     "text": [
      "remove_adjacent\r\n",
      " OK  got: [1, 2, 3] expected: [1, 2, 3]\r\n",
      " OK  got: [2, 3] expected: [2, 3]\r\n",
      " OK  got: [] expected: []\r\n",
      "linear_merge\r\n",
      " OK  got: ['aa', 'bb', 'cc', 'xx', 'zz'] expected: ['aa', 'bb', 'cc', 'xx', 'zz']\r\n",
      " OK  got: ['aa', 'bb', 'cc', 'xx', 'zz'] expected: ['aa', 'bb', 'cc', 'xx', 'zz']\r\n",
      " OK  got: ['aa', 'aa', 'aa', 'bb', 'bb'] expected: ['aa', 'aa', 'aa', 'bb', 'bb']\r\n"
     ]
    }
   ],
   "source": [
    "!python google-python-exercises/basic/list2.py"
   ]
  },
  {
   "cell_type": "code",
   "execution_count": 72,
   "metadata": {},
   "outputs": [
    {
     "name": "stdout",
     "output_type": "stream",
     "text": [
      "#!/usr/bin/python -tt\r\n",
      "# Copyright 2010 Google Inc.\r\n",
      "# Licensed under the Apache License, Version 2.0\r\n",
      "# http://www.apache.org/licenses/LICENSE-2.0\r\n",
      "\r\n",
      "# Google's Python Class\r\n",
      "# http://code.google.com/edu/languages/google-python-class/\r\n",
      "\r\n",
      "# Additional basic list exercises\r\n",
      "\r\n",
      "# D. Given a list of numbers, return a list where\r\n",
      "# all adjacent == elements have been reduced to a single element,\r\n",
      "# so [1, 2, 2, 3] returns [1, 2, 3]. You may create a new list or\r\n",
      "# modify the passed in list.\r\n",
      "def remove_adjacent(nums):\r\n",
      "  result = []\r\n",
      "  for num in nums:\r\n",
      "    if len(result) == 0 or num != result[-1]:\r\n",
      "      result.append(num)\r\n",
      "  return result\r\n",
      "\r\n",
      "# E. Given two lists sorted in increasing order, create and return a merged\r\n",
      "# list of all the elements in sorted order. You may modify the passed in lists.\r\n",
      "# Ideally, the solution should work in \"linear\" time, making a single\r\n",
      "# pass of both lists.\r\n",
      "def linear_merge(list1, list2):\r\n",
      "  result = []\r\n",
      "  # Look at the two lists so long as both are non-empty.\r\n",
      "  # Take whichever element [0] is smaller.\r\n",
      "  while len(list1) and len(list2):\r\n",
      "    if list1[0] < list2[0]:\r\n",
      "      result.append(list1.pop(0))\r\n",
      "    else:\r\n",
      "      result.append(list2.pop(0))\r\n",
      "\r\n",
      "  result.extend(list1)\r\n",
      "  result.extend(list2)\r\n",
      "  return result\r\n",
      "\r\n",
      "# Note: the solution above is kind of cute, but unforunately list.pop(0)\r\n",
      "# is not constant time with the standard python list implementation, so\r\n",
      "# the above is not strictly linear time.\r\n",
      "# An alternate approach uses pop(-1) to remove the endmost elements\r\n",
      "# from each list, building a solution list which is backwards.\r\n",
      "# Then use reversed() to put the result back in the correct order. That\r\n",
      "# solution works in linear time, but is more ugly.\r\n",
      "\r\n",
      "\r\n",
      "# Simple provided test() function used in main() to print\r\n",
      "# what each function returns vs. what it's supposed to return.\r\n",
      "def test(got, expected):\r\n",
      "  if got == expected:\r\n",
      "    prefix = ' OK '\r\n",
      "  else:\r\n",
      "    prefix = '  X '\r\n",
      "  print('%s got: %s expected: %s' % (prefix, repr(got), repr(expected)))\r\n",
      "\r\n",
      "\r\n",
      "# Calls the above functions with interesting inputs.\r\n",
      "def main():\r\n",
      "  print('remove_adjacent')\r\n",
      "  test(remove_adjacent([1, 2, 2, 3]), [1, 2, 3])\r\n",
      "  test(remove_adjacent([2, 2, 3, 3, 3]), [2, 3])\r\n",
      "  test(remove_adjacent([]), [])\r\n",
      "\r\n",
      "  print('linear_merge')\r\n",
      "  test(linear_merge(['aa', 'xx', 'zz'], ['bb', 'cc']),\r\n",
      "       ['aa', 'bb', 'cc', 'xx', 'zz'])\r\n",
      "  test(linear_merge(['aa', 'xx'], ['bb', 'cc', 'zz']),\r\n",
      "       ['aa', 'bb', 'cc', 'xx', 'zz'])\r\n",
      "  test(linear_merge(['aa', 'aa'], ['aa', 'bb', 'bb']),\r\n",
      "       ['aa', 'aa', 'aa', 'bb', 'bb'])\r\n",
      "\r\n",
      "\r\n",
      "if __name__ == '__main__':\r\n",
      "  main()\r\n"
     ]
    }
   ],
   "source": [
    "!cat google-python-exercises/basic/list2.py"
   ]
  },
  {
   "cell_type": "markdown",
   "metadata": {},
   "source": [
    "# Dicts and Files"
   ]
  },
  {
   "cell_type": "markdown",
   "metadata": {},
   "source": [
    "### Dict Hash Table"
   ]
  },
  {
   "cell_type": "markdown",
   "metadata": {},
   "source": [
    "\"Python's efficient key/value hash table structure is called a **\"dict\"**. The contents of a dict can be written as a series of key:value pairs within braces { }, e.g. **dict = {key1:value1, key2:value2, ... }**. The \"empty dict\" is just an empty pair of curly braces {}.\""
   ]
  },
  {
   "cell_type": "code",
   "execution_count": 73,
   "metadata": {},
   "outputs": [
    {
     "name": "stdout",
     "output_type": "stream",
     "text": [
      "{'a': 'alpha', 'o': 'omega', 'g': 'gamma'}\n"
     ]
    }
   ],
   "source": [
    "dict = {}\n",
    "dict['a'] = 'alpha'\n",
    "dict['o'] = 'omega'\n",
    "dict['g'] = 'gamma'\n",
    "print(dict)"
   ]
  },
  {
   "cell_type": "code",
   "execution_count": 74,
   "metadata": {},
   "outputs": [
    {
     "name": "stdout",
     "output_type": "stream",
     "text": [
      "alpha\n"
     ]
    },
    {
     "data": {
      "text/plain": [
       "True"
      ]
     },
     "execution_count": 74,
     "metadata": {},
     "output_type": "execute_result"
    }
   ],
   "source": [
    "print(dict['a'])\n",
    "dict['a'] = 6\n",
    "'a' in dict"
   ]
  },
  {
   "cell_type": "code",
   "execution_count": 75,
   "metadata": {},
   "outputs": [
    {
     "name": "stdout",
     "output_type": "stream",
     "text": [
      "None\n"
     ]
    }
   ],
   "source": [
    "#print(dict['z'])\n",
    "if 'z' in dict: print(dict['z'])\n",
    "print(dict.get('z'))"
   ]
  },
  {
   "cell_type": "markdown",
   "metadata": {},
   "source": [
    "\"A for loop on a dictionary iterates over its keys by default. The keys will appear in an arbitrary order. The methods **dict.keys()** and **dict.values()** return lists of the keys or values explicitly.\""
   ]
  },
  {
   "cell_type": "code",
   "execution_count": 76,
   "metadata": {},
   "outputs": [
    {
     "name": "stdout",
     "output_type": "stream",
     "text": [
      "a\n",
      "o\n",
      "g\n"
     ]
    }
   ],
   "source": [
    "for key in dict: print(key)"
   ]
  },
  {
   "cell_type": "code",
   "execution_count": 77,
   "metadata": {},
   "outputs": [
    {
     "name": "stdout",
     "output_type": "stream",
     "text": [
      "a\n",
      "o\n",
      "g\n"
     ]
    }
   ],
   "source": [
    "for key in dict.keys(): print(key)"
   ]
  },
  {
   "cell_type": "code",
   "execution_count": 78,
   "metadata": {},
   "outputs": [
    {
     "name": "stdout",
     "output_type": "stream",
     "text": [
      "dict_keys(['a', 'o', 'g'])\n",
      "dict_values([6, 'omega', 'gamma'])\n"
     ]
    }
   ],
   "source": [
    "print(dict.keys())\n",
    "print(dict.values())"
   ]
  },
  {
   "cell_type": "code",
   "execution_count": 79,
   "metadata": {},
   "outputs": [
    {
     "name": "stdout",
     "output_type": "stream",
     "text": [
      "a 6\n",
      "g gamma\n",
      "o omega\n"
     ]
    }
   ],
   "source": [
    "for key in sorted(dict.keys()):\n",
    "    print(key, dict[key])"
   ]
  },
  {
   "cell_type": "markdown",
   "metadata": {},
   "source": [
    "\"Items() which returns a list of (key, value) tuples, which is the most efficient way to examine all the key value data in the dictionary.\""
   ]
  },
  {
   "cell_type": "code",
   "execution_count": 80,
   "metadata": {},
   "outputs": [
    {
     "name": "stdout",
     "output_type": "stream",
     "text": [
      "dict_items([('a', 6), ('o', 'omega'), ('g', 'gamma')])\n"
     ]
    }
   ],
   "source": [
    "print(dict.items())"
   ]
  },
  {
   "cell_type": "code",
   "execution_count": 81,
   "metadata": {},
   "outputs": [
    {
     "name": "stdout",
     "output_type": "stream",
     "text": [
      "a -> 6\n",
      "o -> omega\n",
      "g -> gamma\n"
     ]
    }
   ],
   "source": [
    "for k, v in dict.items(): print(k, '->', v)"
   ]
  },
  {
   "cell_type": "markdown",
   "metadata": {},
   "source": [
    "\"There are \"iter\" variants of these methods called iterkeys(), itervalues() and iteritems() which avoid the cost of constructing the whole list -- a performance win if the data is huge. From a performance point of view, the dictionary is one of your greatest tools, and you should use it where you can as an easy way to organize data. \""
   ]
  },
  {
   "cell_type": "markdown",
   "metadata": {},
   "source": [
    "### Dict Formatting"
   ]
  },
  {
   "cell_type": "markdown",
   "metadata": {},
   "source": [
    "\"The **%** operator works conveniently to substitute values from a dict into a string by name.\""
   ]
  },
  {
   "cell_type": "code",
   "execution_count": 82,
   "metadata": {},
   "outputs": [
    {
     "name": "stdout",
     "output_type": "stream",
     "text": [
      "{'word': 'garfield', 'count': 42}\n",
      "I want 42 copies of garfield\n"
     ]
    }
   ],
   "source": [
    "hash = {}\n",
    "hash['word'] = 'garfield'\n",
    "hash['count'] = 42\n",
    "s = 'I want %(count)d copies of %(word)s' % hash # %d for int, %s for string\n",
    "print(hash)\n",
    "print(s)"
   ]
  },
  {
   "cell_type": "markdown",
   "metadata": {},
   "source": [
    "### Del"
   ]
  },
  {
   "cell_type": "markdown",
   "metadata": {},
   "source": [
    "\"The **\"del\"** operator does deletions. In the simplest case, it can remove the definition of a variable, as if that variable had not been defined. Del can also be used on list elements or slices to delete that part of the list and to delete entries from a dictionary.\""
   ]
  },
  {
   "cell_type": "code",
   "execution_count": 83,
   "metadata": {},
   "outputs": [],
   "source": [
    "var = 6\n",
    "del var"
   ]
  },
  {
   "cell_type": "code",
   "execution_count": 84,
   "metadata": {},
   "outputs": [
    {
     "name": "stdout",
     "output_type": "stream",
     "text": [
      "['b']\n"
     ]
    }
   ],
   "source": [
    "list = ['a', 'b', 'c', 'd']\n",
    "del list[0]\n",
    "del list[-2:]\n",
    "print(list)"
   ]
  },
  {
   "cell_type": "code",
   "execution_count": 85,
   "metadata": {},
   "outputs": [
    {
     "name": "stdout",
     "output_type": "stream",
     "text": [
      "{'a': 1, 'c': 3}\n"
     ]
    }
   ],
   "source": [
    "dict = {'a':1, 'b':2, 'c':3}\n",
    "del dict['b']\n",
    "print(dict)"
   ]
  },
  {
   "cell_type": "markdown",
   "metadata": {},
   "source": [
    "# Files"
   ]
  },
  {
   "cell_type": "markdown",
   "metadata": {},
   "source": [
    "\"The **open()** function opens and returns a file handle that can be used to read or write a file in the usual way. The code ```f = open('name', 'r')``` opens the file into the variable f, ready for reading operations, and use ```f.close()``` when finished. Instead of **'r'**, use **'w'** for writing, and **'a'** for append.\""
   ]
  },
  {
   "cell_type": "code",
   "execution_count": 86,
   "metadata": {},
   "outputs": [],
   "source": [
    "f = open('google-python-exercises/foo.txt', 'r')\n",
    "for line in f:\n",
    "  print(line,) # trailing , so print does not add an end-of-line char\n",
    "f.close()"
   ]
  },
  {
   "cell_type": "markdown",
   "metadata": {},
   "source": [
    "\"The ```f.readlines()``` method reads the whole file into memory and returns its contents as a list of its lines. The ```f.read()``` method reads the whole file into a single string, which can be a handy way to deal with the text all at once. For writing, ```f.write(string)``` method is the easiest way to write data to an open output file.\""
   ]
  },
  {
   "cell_type": "markdown",
   "metadata": {},
   "source": [
    "## Exercise: wordcount.py"
   ]
  },
  {
   "cell_type": "code",
   "execution_count": 87,
   "metadata": {},
   "outputs": [],
   "source": [
    "filename = './google-python-exercises/NOTICE.txt'"
   ]
  },
  {
   "cell_type": "code",
   "execution_count": 88,
   "metadata": {},
   "outputs": [],
   "source": [
    "def word_count_dict(filename):\n",
    "  word_count = {}\n",
    "  input_file = open(filename, 'r')\n",
    "  for line in input_file:\n",
    "    words = line.split()\n",
    "    for word in words:\n",
    "      word = word.lower()\n",
    "      if not word in word_count:\n",
    "        word_count[word] = 1\n",
    "      else:\n",
    "        word_count[word] = word_count[word] + 1\n",
    "  input_file.close()\n",
    "  return word_count"
   ]
  },
  {
   "cell_type": "code",
   "execution_count": 89,
   "metadata": {},
   "outputs": [
    {
     "data": {
      "text/plain": [
       "{'code': 2,\n",
       " 'for': 1,\n",
       " \"google's\": 1,\n",
       " 'python': 1,\n",
       " 'class': 1,\n",
       " 'copyright': 1,\n",
       " '2010': 1,\n",
       " 'google': 2,\n",
       " 'inc.': 2,\n",
       " 'this': 1,\n",
       " 'developed': 1,\n",
       " 'by': 1,\n",
       " 'nick': 1,\n",
       " 'parlante': 1,\n",
       " 'at': 1}"
      ]
     },
     "execution_count": 89,
     "metadata": {},
     "output_type": "execute_result"
    }
   ],
   "source": [
    "word_count_dict(filename)"
   ]
  },
  {
   "cell_type": "code",
   "execution_count": 90,
   "metadata": {},
   "outputs": [],
   "source": [
    "def print_words(filename):\n",
    "  word_count = word_count_dict(filename)\n",
    "  words = sorted(word_count.keys())\n",
    "  for word in words:\n",
    "    print('key: ', word, '->', 'value: ', word_count[word])"
   ]
  },
  {
   "cell_type": "code",
   "execution_count": 91,
   "metadata": {
    "scrolled": true
   },
   "outputs": [
    {
     "name": "stdout",
     "output_type": "stream",
     "text": [
      "key:  2010 -> value:  1\n",
      "key:  at -> value:  1\n",
      "key:  by -> value:  1\n",
      "key:  class -> value:  1\n",
      "key:  code -> value:  2\n",
      "key:  copyright -> value:  1\n",
      "key:  developed -> value:  1\n",
      "key:  for -> value:  1\n",
      "key:  google -> value:  2\n",
      "key:  google's -> value:  1\n",
      "key:  inc. -> value:  2\n",
      "key:  nick -> value:  1\n",
      "key:  parlante -> value:  1\n",
      "key:  python -> value:  1\n",
      "key:  this -> value:  1\n"
     ]
    }
   ],
   "source": [
    "print_words(filename)"
   ]
  },
  {
   "cell_type": "code",
   "execution_count": 92,
   "metadata": {},
   "outputs": [],
   "source": [
    "def get_count(word_count_tuple):\n",
    "  return word_count_tuple[1] # (key, value)\n",
    "\n",
    "def print_top(filename):\n",
    "  word_count = word_count_dict(filename)\n",
    "  # Each item is a (word, count) tuple.\n",
    "  items = sorted(word_count.items(), key=get_count, reverse=True)\n",
    "  for item in items[:3]:\n",
    "    print('key: ', item[0], '->', 'value: ', item[1])"
   ]
  },
  {
   "cell_type": "code",
   "execution_count": 93,
   "metadata": {},
   "outputs": [
    {
     "name": "stdout",
     "output_type": "stream",
     "text": [
      "key:  code -> value:  2\n",
      "key:  google -> value:  2\n",
      "key:  inc. -> value:  2\n"
     ]
    }
   ],
   "source": [
    "print_top(filename)"
   ]
  },
  {
   "cell_type": "code",
   "execution_count": 94,
   "metadata": {},
   "outputs": [
    {
     "name": "stdout",
     "output_type": "stream",
     "text": [
      "key:  code -> value:  2\r\n",
      "key:  google -> value:  2\r\n",
      "key:  inc. -> value:  2\r\n"
     ]
    }
   ],
   "source": [
    "!python google-python-exercises/basic/wordcount.py --topcount ./google-python-exercises/NOTICE.txt"
   ]
  },
  {
   "cell_type": "code",
   "execution_count": 95,
   "metadata": {},
   "outputs": [
    {
     "name": "stdout",
     "output_type": "stream",
     "text": [
      "unknown option: --rank\r\n"
     ]
    }
   ],
   "source": [
    "!python google-python-exercises/basic/wordcount.py --rank ./google-python-exercises/NOTICE.txt"
   ]
  },
  {
   "cell_type": "code",
   "execution_count": 96,
   "metadata": {},
   "outputs": [
    {
     "name": "stdout",
     "output_type": "stream",
     "text": [
      "#!/usr/bin/python -tt\r\n",
      "# Copyright 2010 Google Inc.\r\n",
      "# Licensed under the Apache License, Version 2.0\r\n",
      "# http://www.apache.org/licenses/LICENSE-2.0\r\n",
      "\r\n",
      "# Google's Python Class\r\n",
      "# http://code.google.com/edu/languages/google-python-class/\r\n",
      "\r\n",
      "\"\"\"Wordcount exercise\r\n",
      "Google's Python class\r\n",
      "\r\n",
      "The main() below is already defined and complete. It calls print_words()\r\n",
      "and print_top() functions which you write.\r\n",
      "\r\n",
      "1. For the --count flag, implement a print_words(filename) function that counts\r\n",
      "how often each word appears in the text and prints:\r\n",
      "word1 count1\r\n",
      "word2 count2\r\n",
      "...\r\n",
      "\r\n",
      "Print the above list in order sorted by word (python will sort punctuation to\r\n",
      "come before letters -- that's fine). Store all the words as lowercase,\r\n",
      "so 'The' and 'the' count as the same word.\r\n",
      "\r\n",
      "2. For the --topcount flag, implement a print_top(filename) which is similar\r\n",
      "to print_words() but which prints just the top 20 most common words sorted\r\n",
      "so the most common word is first, then the next most common, and so on.\r\n",
      "\r\n",
      "Use str.split() (no arguments) to split on all whitespace.\r\n",
      "\r\n",
      "Workflow: don't build the whole program at once. Get it to an intermediate\r\n",
      "milestone and print your data structure and sys.exit(0).\r\n",
      "When that's working, try for the next milestone.\r\n",
      "\r\n",
      "Optional: define a helper function to avoid code duplication inside\r\n",
      "print_words() and print_top().\r\n",
      "\r\n",
      "\"\"\"\r\n",
      "\r\n",
      "import sys\r\n",
      "\r\n",
      "def word_count_dict(filename):\r\n",
      "  word_count = {}\r\n",
      "  input_file = open(filename, 'r')\r\n",
      "  for line in input_file:\r\n",
      "    words = line.split()\r\n",
      "    for word in words:\r\n",
      "      word = word.lower()\r\n",
      "      if not word in word_count:\r\n",
      "        word_count[word] = 1\r\n",
      "      else:\r\n",
      "        word_count[word] = word_count[word] + 1\r\n",
      "  input_file.close()\r\n",
      "  return word_count\r\n",
      "\r\n",
      "def print_words(filename):\r\n",
      "  word_count = word_count_dict(filename)\r\n",
      "  words = sorted(word_count.keys())\r\n",
      "  for word in words:\r\n",
      "    print('key: ', word, '->', 'value: ', word_count[word])\r\n",
      "\r\n",
      "def get_count(word_count_tuple):\r\n",
      "  return word_count_tuple[1] # (key, value)\r\n",
      "\r\n",
      "def print_top(filename):\r\n",
      "  word_count = word_count_dict(filename)\r\n",
      "  # Each item is a (word, count) tuple.\r\n",
      "  items = sorted(word_count.items(), key=get_count, reverse=True)\r\n",
      "  for item in items[:3]:\r\n",
      "    print('key: ', item[0], '->', 'value: ', item[1])\r\n",
      "\r\n",
      "# This basic command line argument parsing code is provided and\r\n",
      "# calls the print_words() and print_top() functions which you must define.\r\n",
      "def main():\r\n",
      "  if len(sys.argv) != 3:\r\n",
      "    print('usage: ./wordcount.py {--count | --topcount} file')\r\n",
      "    sys.exit(1)\r\n",
      "\r\n",
      "  option = sys.argv[1]\r\n",
      "  filename = sys.argv[2]\r\n",
      "  if option == '--count':\r\n",
      "    print_words(filename)\r\n",
      "  elif option == '--topcount':\r\n",
      "    print_top(filename)\r\n",
      "  else:\r\n",
      "    print('unknown option: ' + option)\r\n",
      "    sys.exit(1)\r\n",
      "\r\n",
      "if __name__ == '__main__':\r\n",
      "  main()\r\n"
     ]
    }
   ],
   "source": [
    "!cat google-python-exercises/basic/wordcount.py"
   ]
  },
  {
   "cell_type": "markdown",
   "metadata": {},
   "source": [
    "# Regular Expressions"
   ]
  },
  {
   "cell_type": "markdown",
   "metadata": {},
   "source": [
    "\"*Regular expressions* are a powerful language for matching text patterns. The re.search() method takes a regular expression pattern and a string and searches for that pattern within the string. ```  match = re.search(pat, str)```.\""
   ]
  },
  {
   "cell_type": "code",
   "execution_count": 99,
   "metadata": {},
   "outputs": [],
   "source": [
    "import re\n",
    "\n",
    "def Search(pattern, text):\n",
    "  match = re.search(pattern, text)\n",
    "  if match:\n",
    "    print(match.group())\n",
    "  else:\n",
    "    print('not found')"
   ]
  },
  {
   "cell_type": "markdown",
   "metadata": {},
   "source": [
    "### Basic Patterns"
   ]
  },
  {
   "cell_type": "markdown",
   "metadata": {},
   "source": [
    "\"Here are the most basic patterns which match single chars.\n",
    "\n",
    "- a, X, 9, < -- ordinary characters just match themselves exactly. The meta-characters which do not match themselves because they have special meanings are: . ^ $ * + ? { [ ] \\ | ( ) (details below)\n",
    "\n",
    "- . (a period) -- matches any single character except newline '\\n'\n",
    "\n",
    "- \\w -- (lowercase w) matches a \"word\" character: a letter or digit or underbar [a-zA-Z0-9_]. Note that although \"word\" is the mnemonic for this, it only matches a single word char, not a whole word. \\W (upper case W) matches any non-word character.\n",
    "\n",
    "- \\b -- boundary between word and non-word\n",
    "\n",
    "- \\s -- (lowercase s) matches a single whitespace character -- space, newline, return, tab, form [ \\n\\r\\t\\f]. \\S (upper case S) matches any non-whitespace character.\n",
    "\n",
    "- \\t, \\n, \\r -- tab, newline, return\n",
    "\n",
    "- \\d -- decimal digit [0-9] (some older regex utilities do not support but \\d, but they all support \\w and \\s)\n",
    "\n",
    "- ^ = start, $ = end -- match the start or end of the string\n",
    "\n",
    "- \\ -- inhibit the \"specialness\" of a character. So, for example, use \\. to match a period or \\\\ to match a slash. If you are unsure if a character has special meaning, such as '@', you can put a slash in front of it, \\@, to make sure it is treated just as a character.\""
   ]
  },
  {
   "cell_type": "code",
   "execution_count": 100,
   "metadata": {},
   "outputs": [
    {
     "name": "stdout",
     "output_type": "stream",
     "text": [
      "iii\n",
      "not found\n",
      "iig\n",
      "123\n",
      "abc\n"
     ]
    }
   ],
   "source": [
    "Search(r'iii', 'piiig')\n",
    "Search(r'igs', 'piiig')\n",
    "Search(r'..g', 'piiig')\n",
    "Search(r'\\d\\d\\d', 'p123g')\n",
    "Search(r'\\w\\w\\w', '@@abcd!!')"
   ]
  },
  {
   "cell_type": "markdown",
   "metadata": {},
   "source": [
    "### Repetition"
   ]
  },
  {
   "cell_type": "markdown",
   "metadata": {},
   "source": [
    "\"+ and * are used to specify reptition in the pattern.\n",
    "\n",
    "- \\+ -- 1 or more occurrences of the pattern to its left, e.g. 'i+' = one or more i's\n",
    "- \\* -- 0 or more occurrences of the pattern to its left\n",
    "- ? -- match 0 or 1 occurrences of the pattern to its left\"\n",
    "\n",
    "\"The + and * are **\"greedy\"** -- first the search finds the leftmost match for the pattern, and second it tries to use up as much of the string as possible.\""
   ]
  },
  {
   "cell_type": "code",
   "execution_count": 101,
   "metadata": {},
   "outputs": [
    {
     "name": "stdout",
     "output_type": "stream",
     "text": [
      "piii\n",
      "ii\n",
      "1 2   3\n",
      "12  3\n",
      "123\n",
      "not found\n",
      "bar\n"
     ]
    }
   ],
   "source": [
    "Search(r'pi+', 'piiig')\n",
    "Search(r'i+', 'piigiiii')\n",
    "Search(r'\\d\\s*\\d\\s*\\d', 'xx1 2   3xx')\n",
    "Search(r'\\d\\s*\\d\\s*\\d', 'xx12  3xx')\n",
    "Search(r'\\d\\s*\\d\\s*\\d', 'xx123xx')\n",
    "Search(r'^b\\w+', 'foobar')\n",
    "Search(r'b\\w+', 'foobar')"
   ]
  },
  {
   "cell_type": "markdown",
   "metadata": {},
   "source": [
    "### Square Brackets"
   ]
  },
  {
   "cell_type": "markdown",
   "metadata": {},
   "source": [
    "\"Square brackets can be used to indicate a set of chars, so **[abc]** matches 'a' or 'b' or 'c'. The codes \\w, \\s etc. work inside square brackets too with the one exception that dot **(.)** just means a literal dot. You can also use a dash to indicate a range, so **[a-z]** matches all lowercase letters. To use a dash without indicating a range, put the dash last, e.g. **[abc-]**. An up-hat **(^)** at the start of a square-bracket set inverts it, so **[^ab]** means any char except 'a' or 'b'.\""
   ]
  },
  {
   "cell_type": "code",
   "execution_count": 102,
   "metadata": {},
   "outputs": [
    {
     "name": "stdout",
     "output_type": "stream",
     "text": [
      "alice-b@google.com\n"
     ]
    }
   ],
   "source": [
    "Search(r'[\\w.-]+@[\\w.-]+', 'purple alice-b@google.com monkey dishwasher')"
   ]
  },
  {
   "cell_type": "markdown",
   "metadata": {},
   "source": [
    "### Group Extraction"
   ]
  },
  {
   "cell_type": "markdown",
   "metadata": {},
   "source": [
    "\"The **\"group\"** feature of a regular expression allows you to pick out parts of the matching text. The parenthesis do not change what the pattern will match, instead they establish logical \"groups\" inside of the match text.\""
   ]
  },
  {
   "cell_type": "code",
   "execution_count": 103,
   "metadata": {},
   "outputs": [],
   "source": [
    "def MatchGroup(pattern, text):\n",
    "  matches = re.search(pattern, text)\n",
    "  if matches:\n",
    "    print(matches.group())\n",
    "    print(matches.group(1))\n",
    "    print(matches.group(2))\n",
    "  else:\n",
    "    print('not found')"
   ]
  },
  {
   "cell_type": "code",
   "execution_count": 104,
   "metadata": {},
   "outputs": [
    {
     "name": "stdout",
     "output_type": "stream",
     "text": [
      "alice-b@google.com\n",
      "alice-b\n",
      "google.com\n"
     ]
    }
   ],
   "source": [
    "MatchGroup(r'([\\w.-]+)@([\\w.-]+)', 'purple alice-b@google.com monkey dishwasher')"
   ]
  },
  {
   "cell_type": "markdown",
   "metadata": {},
   "source": [
    "### findall"
   ]
  },
  {
   "cell_type": "markdown",
   "metadata": {},
   "source": [
    "\"**findall()** finds *all* the matches and returns them as a list of strings, with each string representing one match.\""
   ]
  },
  {
   "cell_type": "code",
   "execution_count": 105,
   "metadata": {},
   "outputs": [],
   "source": [
    "def Find(pattern, text):\n",
    "  matches = re.findall(pattern, text)\n",
    "  for match in matches:\n",
    "    print(match)"
   ]
  },
  {
   "cell_type": "code",
   "execution_count": 106,
   "metadata": {},
   "outputs": [
    {
     "name": "stdout",
     "output_type": "stream",
     "text": [
      "alice@google.com\n",
      "bob@abc.com\n"
     ]
    }
   ],
   "source": [
    "Find(r'[\\w\\.-]+@[\\w\\.-]+', 'purple alice@google.com, blah monkey bob@abc.com blah dishwasher')"
   ]
  },
  {
   "cell_type": "markdown",
   "metadata": {},
   "source": [
    "### findall With Files"
   ]
  },
  {
   "cell_type": "code",
   "execution_count": 107,
   "metadata": {},
   "outputs": [
    {
     "data": {
      "text/plain": [
       "['Code',\n",
       " 'for',\n",
       " 'Google',\n",
       " 's',\n",
       " 'Python',\n",
       " 'Class',\n",
       " 'Copyright',\n",
       " '2010',\n",
       " 'Google',\n",
       " 'Inc',\n",
       " 'This',\n",
       " 'code',\n",
       " 'developed',\n",
       " 'by',\n",
       " 'Nick',\n",
       " 'Parlante',\n",
       " 'at',\n",
       " 'Google',\n",
       " 'Inc']"
      ]
     },
     "execution_count": 107,
     "metadata": {},
     "output_type": "execute_result"
    }
   ],
   "source": [
    "f = open('google-python-exercises/NOTICE.txt', 'r')\n",
    "strings = re.findall(r'\\w+', f.read())\n",
    "strings"
   ]
  },
  {
   "cell_type": "markdown",
   "metadata": {},
   "source": [
    "### findall and Groups"
   ]
  },
  {
   "cell_type": "markdown",
   "metadata": {},
   "source": [
    "\"If the pattern includes 2 or more parenthesis groups, then instead of returning a list of strings, findall() returns a list of ***tuples***. If the pattern includes no parenthesis, then findall() returns a list of found strings. If the pattern includes a single set of parenthesis, then findall() returns a list of strings corresponding to that single group.\""
   ]
  },
  {
   "cell_type": "code",
   "execution_count": 108,
   "metadata": {},
   "outputs": [],
   "source": [
    "def TupleFind(pattern, text):\n",
    "  tuples = re.findall(pattern, text)\n",
    "  print(tuples)\n",
    "  for tuple in tuples:\n",
    "    print(tuple[0])\n",
    "    print(tuple[1])"
   ]
  },
  {
   "cell_type": "code",
   "execution_count": 109,
   "metadata": {},
   "outputs": [
    {
     "name": "stdout",
     "output_type": "stream",
     "text": [
      "[('alice', 'google.com'), ('bob', 'abc.com')]\n",
      "alice\n",
      "google.com\n",
      "bob\n",
      "abc.com\n"
     ]
    }
   ],
   "source": [
    "TupleFind(r'([\\w\\.-]+)@([\\w\\.-]+)', 'purple alice@google.com, blah monkey bob@abc.com blah dishwasher')"
   ]
  },
  {
   "cell_type": "markdown",
   "metadata": {},
   "source": [
    "### Options"
   ]
  },
  {
   "cell_type": "markdown",
   "metadata": {},
   "source": [
    "\"The option flag is added as an extra argument to the **search()** or **findall()**.\n",
    "\n",
    "- IGNORECASE -- ignore upper/lowercase differences for matching, so 'a' matches both 'a' and 'A'.\n",
    "\n",
    "- DOTALL -- allow dot (.) to match newline -- normally it matches anything but newline. This can trip you up -- you think .* matches everything, but by default it does not go past the end of a line. Note that \\s (whitespace) includes newlines, so if you want to match a run of whitespace that may include a newline, you can just use \\s*\n",
    "\n",
    "- MULTILINE -- Within a string made of many lines, allow ^ and $ to match the start and end of each line."
   ]
  },
  {
   "cell_type": "markdown",
   "metadata": {},
   "source": [
    "Normally ^/$ would just match the start and end of the whole string.\n",
    "\n",
    "\"There is an extension to regular expression where you add a ? at the end, such as .*? or .+?, changing them to be non-greedy.\""
   ]
  },
  {
   "cell_type": "markdown",
   "metadata": {},
   "source": [
    "### Substitution (optional)"
   ]
  },
  {
   "cell_type": "markdown",
   "metadata": {},
   "source": [
    "\"The ```re.sub(pat, replacement, str)``` function searches for all the instances of pattern in the given string, and replaces them.\""
   ]
  },
  {
   "cell_type": "code",
   "execution_count": 110,
   "metadata": {},
   "outputs": [
    {
     "name": "stdout",
     "output_type": "stream",
     "text": [
      "purple alice@yo-yo-dyne.com, blah monkey bob@yo-yo-dyne.com blah dishwasher\n"
     ]
    }
   ],
   "source": [
    "str = 'purple alice@google.com, blah monkey bob@abc.com blah dishwasher'\n",
    "# \\1 is group(1), \\2 group(2) in the replacement\n",
    "print(re.sub(r'([\\w\\.-]+)@([\\w\\.-]+)', r'\\1@yo-yo-dyne.com', str))"
   ]
  },
  {
   "cell_type": "markdown",
   "metadata": {},
   "source": [
    "## Exercise: babynames.py"
   ]
  },
  {
   "cell_type": "code",
   "execution_count": 111,
   "metadata": {},
   "outputs": [],
   "source": [
    "filename = './google-python-exercises/babynames/baby1990.html'"
   ]
  },
  {
   "cell_type": "code",
   "execution_count": 112,
   "metadata": {},
   "outputs": [],
   "source": [
    "def extract_names(filename):\n",
    "  names = []\n",
    "  f = open(filename, 'r')\n",
    "  text = f.read() # read in whole text file\n",
    "  year_match = re.search(r'Popularity\\sin\\s(\\d\\d\\d\\d)', text)\n",
    "  if not year_match:\n",
    "    sys.stderr.write('Couldn\\'t find the year!\\n')\n",
    "    sys.exit(1)\n",
    "  year = year_match.group(1)\n",
    "  names.append(year)\n",
    "  \n",
    "  # each tuple is: (rank, boy-name, girl-name)\n",
    "  tuples = re.findall(r'<td>(\\d+)</td><td>(\\w+)</td>\\<td>(\\w+)</td>', text)\n",
    "  names_to_rank =  {} \n",
    "  for rank_tuple in tuples:\n",
    "    (rank, boyname, girlname) = rank_tuple  # unpack the tuple into 3 vars\n",
    "    if boyname not in names_to_rank:\n",
    "      names_to_rank[boyname] = rank\n",
    "    if girlname not in names_to_rank:\n",
    "      names_to_rank[girlname] = rank\n",
    "\n",
    "  sorted_names = sorted(names_to_rank.keys())\n",
    "  for name in sorted_names:\n",
    "    names.append(name + \" \" + names_to_rank[name])\n",
    "  return names"
   ]
  },
  {
   "cell_type": "code",
   "execution_count": 113,
   "metadata": {},
   "outputs": [
    {
     "data": {
      "text/plain": [
       "['1990',\n",
       " 'Aaron 34',\n",
       " 'Abbey 482',\n",
       " 'Abbie 685',\n",
       " 'Abby 222',\n",
       " 'Abdul 934',\n",
       " 'Abel 384',\n",
       " 'Abigail 90',\n",
       " 'Abraham 246',\n",
       " 'Abram 920']"
      ]
     },
     "execution_count": 113,
     "metadata": {},
     "output_type": "execute_result"
    }
   ],
   "source": [
    "extract_names(filename)[:10]"
   ]
  },
  {
   "cell_type": "code",
   "execution_count": 114,
   "metadata": {},
   "outputs": [],
   "source": [
    "!python google-python-exercises/babynames/babynames.py \\\n",
    "  --summaryfile ./google-python-exercises/babynames/baby*.html"
   ]
  },
  {
   "cell_type": "code",
   "execution_count": 115,
   "metadata": {},
   "outputs": [
    {
     "name": "stdout",
     "output_type": "stream",
     "text": [
      "baby1990.html         baby1998.html         baby2006.html\r\n",
      "baby1990.html.summary baby1998.html.summary baby2006.html.summary\r\n",
      "baby1992.html         baby2000.html         baby2008.html\r\n",
      "baby1992.html.summary baby2000.html.summary baby2008.html.summary\r\n",
      "baby1994.html         baby2002.html         \u001b[31mbabynames.py\u001b[m\u001b[m\r\n",
      "baby1994.html.summary baby2002.html.summary \u001b[30m\u001b[43msolution\u001b[m\u001b[m\r\n",
      "baby1996.html         baby2004.html\r\n",
      "baby1996.html.summary baby2004.html.summary\r\n"
     ]
    }
   ],
   "source": [
    "!ls google-python-exercises/babynames/"
   ]
  },
  {
   "cell_type": "code",
   "execution_count": 116,
   "metadata": {},
   "outputs": [
    {
     "name": "stdout",
     "output_type": "stream",
     "text": [
      "google-python-exercises/babynames/baby1990.html.summary:Cornelius 487\r\n",
      "google-python-exercises/babynames/baby1992.html.summary:Cornelius 542\r\n",
      "google-python-exercises/babynames/baby1994.html.summary:Cornelius 629\r\n",
      "google-python-exercises/babynames/baby1996.html.summary:Cornelius 675\r\n",
      "google-python-exercises/babynames/baby1998.html.summary:Cornelius 702\r\n",
      "google-python-exercises/babynames/baby2000.html.summary:Cornelius 791\r\n",
      "google-python-exercises/babynames/baby2002.html.summary:Cornelius 862\r\n",
      "google-python-exercises/babynames/baby2004.html.summary:Cornelius 967\r\n",
      "google-python-exercises/babynames/baby2006.html.summary:Cornelius 939\r\n",
      "google-python-exercises/babynames/baby2008.html.summary:Cornelius 988\r\n"
     ]
    }
   ],
   "source": [
    "!grep 'Cornelius' google-python-exercises/babynames/*summary"
   ]
  },
  {
   "cell_type": "code",
   "execution_count": 117,
   "metadata": {},
   "outputs": [
    {
     "name": "stdout",
     "output_type": "stream",
     "text": [
      "#!/usr/bin/python\r\n",
      "# Copyright 2010 Google Inc.\r\n",
      "# Licensed under the Apache License, Version 2.0\r\n",
      "# http://www.apache.org/licenses/LICENSE-2.0\r\n",
      "\r\n",
      "# Google's Python Class\r\n",
      "# http://code.google.com/edu/languages/google-python-class/\r\n",
      "\r\n",
      "import sys\r\n",
      "import re\r\n",
      "\r\n",
      "\"\"\"Baby Names exercise\r\n",
      "\r\n",
      "Define the extract_names() function below and change main()\r\n",
      "to call it.\r\n",
      "\r\n",
      "For writing regex, it's nice to include a copy of the target\r\n",
      "text for inspiration.\r\n",
      "\r\n",
      "Here's what the html looks like in the baby.html files:\r\n",
      "...\r\n",
      "<h3 align=\"center\">Popularity in 1990</h3>\r\n",
      "....\r\n",
      "<tr align=\"right\"><td>1</td><td>Michael</td><td>Jessica</td>\r\n",
      "<tr align=\"right\"><td>2</td><td>Christopher</td><td>Ashley</td>\r\n",
      "<tr align=\"right\"><td>3</td><td>Matthew</td><td>Brittany</td>\r\n",
      "...\r\n",
      "\r\n",
      "Suggested milestones for incremental development:\r\n",
      " -Extract the year and print it\r\n",
      " -Extract the names and rank numbers and just print them\r\n",
      " -Get the names data into a dict and print it\r\n",
      " -Build the [year, 'name rank', ... ] list and print it\r\n",
      " -Fix main() to use the extract_names list\r\n",
      "\"\"\"\r\n",
      "\r\n",
      "def extract_names(filename):\r\n",
      "  names = []\r\n",
      "  f = open(filename, 'r')\r\n",
      "  text = f.read() # read in whole text file\r\n",
      "  year_match = re.search(r'Popularity\\sin\\s(\\d\\d\\d\\d)', text)\r\n",
      "  if not year_match:\r\n",
      "    sys.stderr.write('Couldn\\'t find the year!\\n')\r\n",
      "    sys.exit(1)\r\n",
      "  year = year_match.group(1)\r\n",
      "  names.append(year)\r\n",
      "  \r\n",
      "  # each tuple is: (rank, boy-name, girl-name)\r\n",
      "  tuples = re.findall(r'<td>(\\d+)</td><td>(\\w+)</td>\\<td>(\\w+)</td>', text)\r\n",
      "  names_to_rank =  {} \r\n",
      "  for rank_tuple in tuples:\r\n",
      "    (rank, boyname, girlname) = rank_tuple  # unpack the tuple into 3 vars\r\n",
      "    if boyname not in names_to_rank:\r\n",
      "      names_to_rank[boyname] = rank\r\n",
      "    if girlname not in names_to_rank:\r\n",
      "      names_to_rank[girlname] = rank\r\n",
      "\r\n",
      "  sorted_names = sorted(names_to_rank.keys())\r\n",
      "  for name in sorted_names:\r\n",
      "    names.append(name + \" \" + names_to_rank[name])\r\n",
      "  return names\r\n",
      "\r\n",
      "def main():\r\n",
      "  # This command-line parsing code is provided.\r\n",
      "  # Make a list of command line arguments, omitting the [0] element\r\n",
      "  # which is the script itself.\r\n",
      "  args = sys.argv[1:]\r\n",
      "\r\n",
      "  if not args:\r\n",
      "    print('usage: [--summaryfile] file [file ...]')\r\n",
      "    sys.exit(1)\r\n",
      "\r\n",
      "  # Notice the summary flag and remove it from args if it is present.\r\n",
      "  summary = False\r\n",
      "  if args[0] == '--summaryfile':\r\n",
      "    summary = True\r\n",
      "    del args[0]\r\n",
      "\r\n",
      "  for filename in args:\r\n",
      "    names = extract_names(filename)\r\n",
      "\r\n",
      "    # Make text out of the whole list\r\n",
      "    text = '\\n'.join(names)\r\n",
      "\r\n",
      "    if summary:\r\n",
      "      outf = open(filename + '.summary', 'w')\r\n",
      "      outf.write(text + '\\n')\r\n",
      "      outf.close()\r\n",
      "    else:\r\n",
      "      print(text)\r\n",
      "  \r\n",
      "if __name__ == '__main__':\r\n",
      "  main()\r\n"
     ]
    }
   ],
   "source": [
    "!cat google-python-exercises/babynames/babynames.py"
   ]
  },
  {
   "cell_type": "markdown",
   "metadata": {},
   "source": [
    "# Utilities"
   ]
  },
  {
   "cell_type": "markdown",
   "metadata": {},
   "source": [
    "### File System -- os, os.path, shutil"
   ]
  },
  {
   "cell_type": "markdown",
   "metadata": {},
   "source": [
    "\"The **os** and **os.path** modules include many functions to interact with the file system. The **shutil** module can copy files.\n",
    "\n",
    "- os module docs (https://docs.python.org/3/library/os.html)\n",
    "\n",
    "- filenames = os.listdir(dir) -- list of filenames in that directory path (not including . and ..). The filenames are just the names in the directory, not their absolute paths.\n",
    "\n",
    "- os.path.join(dir, filename) -- given a filename from the above list, use this to put the dir and filename together to make a path\n",
    "\n",
    "- os.path.abspath(path) -- given a path, return an absolute form, e.g. /home/nick/foo/bar.html\n",
    "\n",
    "- os.path.dirname(path), os.path.basename(path) -- given dir/foo/bar.html, return the dirname \"dir/foo\" and basename \"bar.html\"\n",
    "\n",
    "- os.path.exists(path) -- true if it exists\n",
    "\n",
    "- os.mkdir(dir_path) -- makes one dir, os.makedirs(dir_path) makes all the needed dirs in this path\n",
    "\n",
    "- shutil.copy(source-path, dest-path) -- copy a file (dest path directories should exist)\"\n"
   ]
  },
  {
   "cell_type": "code",
   "execution_count": 118,
   "metadata": {},
   "outputs": [],
   "source": [
    "import os\n",
    "\n",
    "def ListDir(dir):\n",
    "  filenames = os.listdir(dir)\n",
    "  for filename in filenames:\n",
    "    print(filename)\n",
    "    print(os.path.join(dir, filename))\n",
    "    print(os.path.abspath(os.path.join(dir, filename)))\n",
    "    print('\\n')"
   ]
  },
  {
   "cell_type": "code",
   "execution_count": 119,
   "metadata": {},
   "outputs": [
    {
     "name": "stdout",
     "output_type": "stream",
     "text": [
      "tmp2\n",
      "./google-python-exercises/copyspecial/tmp2\n",
      "/Users/grp/Documents/BIGDATA/GCP/google-python-class/google-python-exercises/copyspecial/tmp2\n",
      "\n",
      "\n",
      "zz__something__.jpg\n",
      "./google-python-exercises/copyspecial/zz__something__.jpg\n",
      "/Users/grp/Documents/BIGDATA/GCP/google-python-class/google-python-exercises/copyspecial/zz__something__.jpg\n",
      "\n",
      "\n",
      "solution\n",
      "./google-python-exercises/copyspecial/solution\n",
      "/Users/grp/Documents/BIGDATA/GCP/google-python-class/google-python-exercises/copyspecial/solution\n",
      "\n",
      "\n",
      "copyspecial.py\n",
      "./google-python-exercises/copyspecial/copyspecial.py\n",
      "/Users/grp/Documents/BIGDATA/GCP/google-python-class/google-python-exercises/copyspecial/copyspecial.py\n",
      "\n",
      "\n",
      ".ipynb_checkpoints\n",
      "./google-python-exercises/copyspecial/.ipynb_checkpoints\n",
      "/Users/grp/Documents/BIGDATA/GCP/google-python-class/google-python-exercises/copyspecial/.ipynb_checkpoints\n",
      "\n",
      "\n",
      "xyz__hello__.txt\n",
      "./google-python-exercises/copyspecial/xyz__hello__.txt\n",
      "/Users/grp/Documents/BIGDATA/GCP/google-python-class/google-python-exercises/copyspecial/xyz__hello__.txt\n",
      "\n",
      "\n",
      "tmp\n",
      "./google-python-exercises/copyspecial/tmp\n",
      "/Users/grp/Documents/BIGDATA/GCP/google-python-class/google-python-exercises/copyspecial/tmp\n",
      "\n",
      "\n"
     ]
    }
   ],
   "source": [
    "ListDir('./google-python-exercises/copyspecial/')"
   ]
  },
  {
   "cell_type": "code",
   "execution_count": 120,
   "metadata": {},
   "outputs": [],
   "source": [
    "# dir(os)\n",
    "# help(os.listdir)\n",
    "# dir(os.path)\n",
    "# help(os.path.dirname)"
   ]
  },
  {
   "cell_type": "markdown",
   "metadata": {},
   "source": [
    "### Running External Processes -- commands"
   ]
  },
  {
   "cell_type": "markdown",
   "metadata": {},
   "source": [
    "\"The **subprocess** module is a simple way to run an external command and capture its output.\n",
    "\n",
    "- subprocess module docs (https://docs.python.org/2/library/subprocess.html#module-subprocess)\n",
    "\n",
    "- (status, output) = commands.getstatusoutput(cmd) -- runs the command, waits for it to exit, and returns its status int and output text as a tuple. The command is run with its standard output and standard error combined into the one output text. The status will be non-zero if the command failed. Since the standard-err of the command is captured, if it fails, we need to print some indication of what happened.\n",
    "\n",
    "- output = commands.getoutput(cmd) -- as above, but without the status int.\n",
    "\n",
    "- There is a commands.getstatus() but it does something else, so don't use it -- dumbest bit of method naming ever!\n",
    "\n",
    "- There is also a simple os.system(cmd) which runs the command and dumps its output onto your output and returns its error code. This works if you want to run the command but do not need to capture its output into your python data structures.\""
   ]
  },
  {
   "cell_type": "code",
   "execution_count": 121,
   "metadata": {},
   "outputs": [],
   "source": [
    "import subprocess\n",
    "\n",
    "def ExecDir(dir):\n",
    "  cmd = 'ls -l ' + dir\n",
    "  print(\"Command to run:\", cmd)\n",
    "  (status, output) = subprocess.getstatusoutput(cmd)\n",
    "  if status:\n",
    "    sys.stderr.write(output)\n",
    "    sys.exit(status)\n",
    "  print(output)\n",
    "  print(status)"
   ]
  },
  {
   "cell_type": "code",
   "execution_count": 122,
   "metadata": {},
   "outputs": [
    {
     "name": "stdout",
     "output_type": "stream",
     "text": [
      "Command to run: ls -l ./google-python-exercises/copyspecial/\n",
      "total 160\n",
      "-rwxrwxrwx@ 1 grp  staff   1942 Jul 26 12:38 copyspecial.py\n",
      "drwxrwxrwx@ 3 grp  staff     96 Dec 21  2009 solution\n",
      "drwxr-xr-x  7 grp  staff    224 Jul 26 12:44 tmp\n",
      "drwxr-xr-x  4 grp  staff    128 Jul 26 12:52 tmp2\n",
      "-rw-rw-rw-@ 1 grp  staff     65 Mar  8  2010 xyz__hello__.txt\n",
      "-rw-r--r--@ 1 grp  staff  72314 Mar 11  2010 zz__something__.jpg\n",
      "0\n"
     ]
    }
   ],
   "source": [
    "ExecDir('./google-python-exercises/copyspecial/')"
   ]
  },
  {
   "cell_type": "markdown",
   "metadata": {},
   "source": [
    "### Exceptions"
   ]
  },
  {
   "cell_type": "markdown",
   "metadata": {},
   "source": [
    "\"An exception (https://docs.python.org/3/tutorial/errors.html & https://docs.python.org/3/library/exceptions.html) represents a run-time error that halts the normal execution at a particular line and transfers control to error handling code. The **\"try/except\"** structure can handle expections.\""
   ]
  },
  {
   "cell_type": "code",
   "execution_count": 123,
   "metadata": {},
   "outputs": [
    {
     "name": "stderr",
     "output_type": "stream",
     "text": [
      "problem reading:test.txt"
     ]
    }
   ],
   "source": [
    "import sys\n",
    "\n",
    "filename = 'test.txt'\n",
    "\n",
    "try:\n",
    "  f = open(filename, 'r')\n",
    "  text = f.read()\n",
    "  f.close()\n",
    "except IOError:\n",
    "  sys.stderr.write('problem reading:' + filename)"
   ]
  },
  {
   "cell_type": "markdown",
   "metadata": {},
   "source": [
    "\"The **try**: section includes the code which might throw an exception. The **except**: section holds the code to run if there is an exception. If there is no exception, the **except**: section is skipped (that is, that code is for error handling only, not the \"normal\" case for the code).\""
   ]
  },
  {
   "cell_type": "markdown",
   "metadata": {},
   "source": [
    "### HTTP -- urllib and urlparse"
   ]
  },
  {
   "cell_type": "markdown",
   "metadata": {},
   "source": [
    "\"The module **urllib.request** provides url fetching -- making a url look like a file you can read from. The **urllib.parse** module can take apart and put together urls.\n",
    "\n",
    "- urllib module docs (https://docs.python.org/3/library/urllib.html)\n",
    "\n",
    "- text = ufile.read() -- can read from it, like a file (readlines() etc. also work)\n",
    "\n",
    "- info = ufile.info() -- the meta info for that request. info.get_content_type() is the mime type, e.g. 'text/html'\n",
    "\n",
    "- baseurl = ufile.geturl() -- gets the \"base\" url for the request, which may be different from the original because of redirects\n",
    "\n",
    "- urllib.urlretrieve(url, filename) -- downloads the url data to the given file path\n",
    "\n",
    "- urlparse.urljoin(baseurl, url) -- given a url that may or may not be full, and the baseurl of the page it comes from, return a full url. Use geturl() above to provide the base url.\""
   ]
  },
  {
   "cell_type": "code",
   "execution_count": 124,
   "metadata": {},
   "outputs": [],
   "source": [
    "import urllib\n",
    "\n",
    "def wget(url):\n",
    "  ufile = urllib.request.urlopen(url)\n",
    "  info = ufile.info() \n",
    "  if info.get_content_type() == 'text/html':\n",
    "    print('base url: ' + ufile.geturl())\n",
    "    text = ufile.read()\n",
    "    #print(text)"
   ]
  },
  {
   "cell_type": "code",
   "execution_count": 125,
   "metadata": {},
   "outputs": [
    {
     "name": "stdout",
     "output_type": "stream",
     "text": [
      "base url: https://www.google.com/\n"
     ]
    }
   ],
   "source": [
    "wget('https://www.google.com/')"
   ]
  },
  {
   "cell_type": "code",
   "execution_count": 126,
   "metadata": {},
   "outputs": [],
   "source": [
    "def wget2(url):\n",
    "  try:\n",
    "    ufile = urllib.request.urlopen(url)\n",
    "    if ufile.info().get_content_type() == 'text/html':\n",
    "      print(ufile.read())\n",
    "  except IOError:\n",
    "    print('problem reading url:', url)"
   ]
  },
  {
   "cell_type": "code",
   "execution_count": 127,
   "metadata": {},
   "outputs": [
    {
     "name": "stdout",
     "output_type": "stream",
     "text": [
      "problem reading url: https://www.gooogle.com/\n"
     ]
    }
   ],
   "source": [
    "wget2('https://www.gooogle.com/')"
   ]
  },
  {
   "cell_type": "markdown",
   "metadata": {},
   "source": [
    "## Exercise: copyspecial.py"
   ]
  },
  {
   "cell_type": "code",
   "execution_count": 128,
   "metadata": {},
   "outputs": [],
   "source": [
    "dirname = './google-python-exercises/copyspecial/'\n",
    "to_dir = './google-python-exercises/copyspecial/tmp/'\n",
    "zipfile = './google-python-exercises/copyspecial/tmp/files.zip'"
   ]
  },
  {
   "cell_type": "code",
   "execution_count": 129,
   "metadata": {},
   "outputs": [],
   "source": [
    "import os\n",
    "import re\n",
    "\n",
    "def get_special_paths(dirname):\n",
    "  result = []\n",
    "  paths = os.listdir(dirname)\n",
    "  for fname in paths:\n",
    "    match = re.search(r'__(\\w+)__', fname)\n",
    "    if match:\n",
    "      result.append(os.path.abspath(os.path.join(dirname, fname)))\n",
    "  return result"
   ]
  },
  {
   "cell_type": "code",
   "execution_count": 147,
   "metadata": {},
   "outputs": [
    {
     "name": "stdout",
     "output_type": "stream",
     "text": [
      "['/Users/grp/Documents/BIGDATA/GCP/google-python-class/google-python-exercises/copyspecial/zz__something__.jpg', '/Users/grp/Documents/BIGDATA/GCP/google-python-class/google-python-exercises/copyspecial/xyz__hello__.txt']\n"
     ]
    }
   ],
   "source": [
    "paths = get_special_paths(dirname)\n",
    "print(paths)"
   ]
  },
  {
   "cell_type": "code",
   "execution_count": 148,
   "metadata": {},
   "outputs": [],
   "source": [
    "import shutil\n",
    "\n",
    "def copy_to(paths, to_dir):\n",
    "  if not os.path.exists(to_dir):\n",
    "    os.mkdir(to_dir)\n",
    "  for path in paths:\n",
    "    fname = os.path.basename(path)\n",
    "    shutil.copy(path, os.path.join(to_dir, fname))"
   ]
  },
  {
   "cell_type": "code",
   "execution_count": 149,
   "metadata": {},
   "outputs": [],
   "source": [
    "copy_to(paths, to_dir)"
   ]
  },
  {
   "cell_type": "code",
   "execution_count": 150,
   "metadata": {},
   "outputs": [
    {
     "name": "stdout",
     "output_type": "stream",
     "text": [
      "files.zip           xyz__hello__.txt    zz__something__.jpg\r\n"
     ]
    }
   ],
   "source": [
    "!ls ./google-python-exercises/copyspecial/tmp/"
   ]
  },
  {
   "cell_type": "code",
   "execution_count": 156,
   "metadata": {},
   "outputs": [],
   "source": [
    "import subprocess\n",
    "\n",
    "def zip_to(paths, zipfile):\n",
    "  cmd = 'zip -j ' + zipfile + ' ' + ' '.join(paths)\n",
    "  print(\"Command I'm going to do: \" + cmd)\n",
    "  (status, output) = subprocess.getstatusoutput(cmd)\n",
    "  if status:\n",
    "    sys.stderr.write(output)\n",
    "    sys.exit(1)"
   ]
  },
  {
   "cell_type": "code",
   "execution_count": 157,
   "metadata": {},
   "outputs": [
    {
     "name": "stdout",
     "output_type": "stream",
     "text": [
      "Command I'm going to do: zip -j ./google-python-exercises/copyspecial/tmp/files.zip /Users/grp/Documents/BIGDATA/GCP/google-python-class/google-python-exercises/copyspecial/zz__something__.jpg /Users/grp/Documents/BIGDATA/GCP/google-python-class/google-python-exercises/copyspecial/xyz__hello__.txt\n"
     ]
    }
   ],
   "source": [
    "zip_to(paths, zipfile)"
   ]
  },
  {
   "cell_type": "code",
   "execution_count": 158,
   "metadata": {},
   "outputs": [
    {
     "name": "stdout",
     "output_type": "stream",
     "text": [
      "files.zip           xyz__hello__.txt    zz__something__.jpg\r\n"
     ]
    }
   ],
   "source": [
    "!ls ./google-python-exercises/copyspecial/tmp/"
   ]
  },
  {
   "cell_type": "code",
   "execution_count": 159,
   "metadata": {},
   "outputs": [
    {
     "name": "stdout",
     "output_type": "stream",
     "text": [
      "Command I'm going to do:zip -j ./google-python-exercises/copyspecial/tmp/files2.zip /Users/grp/Documents/BIGDATA/GCP/google-python-class/google-python-exercises/copyspecial/tmp/zz__something__.jpg /Users/grp/Documents/BIGDATA/GCP/google-python-class/google-python-exercises/copyspecial/tmp/xyz__hello__.txt\r\n"
     ]
    }
   ],
   "source": [
    "!python google-python-exercises/copyspecial/copyspecial.py \\\n",
    "  --tozip ./google-python-exercises/copyspecial/tmp/files2.zip \\\n",
    "  ./google-python-exercises/copyspecial/tmp/"
   ]
  },
  {
   "cell_type": "code",
   "execution_count": 160,
   "metadata": {},
   "outputs": [
    {
     "name": "stdout",
     "output_type": "stream",
     "text": [
      "files.zip           files2.zip          xyz__hello__.txt    zz__something__.jpg\r\n"
     ]
    }
   ],
   "source": [
    "!ls ./google-python-exercises/copyspecial/tmp/"
   ]
  },
  {
   "cell_type": "code",
   "execution_count": 161,
   "metadata": {},
   "outputs": [],
   "source": [
    "!python google-python-exercises/copyspecial/copyspecial.py \\\n",
    "  --todir ./google-python-exercises/copyspecial/tmp2/ \\\n",
    "  ./google-python-exercises/copyspecial/"
   ]
  },
  {
   "cell_type": "code",
   "execution_count": 162,
   "metadata": {},
   "outputs": [
    {
     "name": "stdout",
     "output_type": "stream",
     "text": [
      "xyz__hello__.txt    zz__something__.jpg\r\n"
     ]
    }
   ],
   "source": [
    "!ls ./google-python-exercises/copyspecial/tmp2/"
   ]
  },
  {
   "cell_type": "code",
   "execution_count": 163,
   "metadata": {},
   "outputs": [
    {
     "name": "stdout",
     "output_type": "stream",
     "text": [
      "Command I'm going to do:zip -j /test/path/tmp.zip /Users/grp/Documents/BIGDATA/GCP/google-python-class/google-python-exercises/copyspecial/zz__something__.jpg /Users/grp/Documents/BIGDATA/GCP/google-python-class/google-python-exercises/copyspecial/xyz__hello__.txt\r\n",
      "zip I/O error: No such file or directory\r\n",
      "zip error: Could not create output file (/test/path/tmp.zip)"
     ]
    }
   ],
   "source": [
    "!python google-python-exercises/copyspecial/copyspecial.py \\\n",
    "  --tozip /test/path/tmp.zip \\\n",
    "  ./google-python-exercises/copyspecial/"
   ]
  },
  {
   "cell_type": "code",
   "execution_count": 164,
   "metadata": {},
   "outputs": [
    {
     "name": "stdout",
     "output_type": "stream",
     "text": [
      "#!/usr/bin/python\r\n",
      "# Copyright 2010 Google Inc.\r\n",
      "# Licensed under the Apache License, Version 2.0\r\n",
      "# http://www.apache.org/licenses/LICENSE-2.0\r\n",
      "\r\n",
      "# Google's Python Class\r\n",
      "# http://code.google.com/edu/languages/google-python-class/\r\n",
      "\r\n",
      "import sys\r\n",
      "import re\r\n",
      "import os\r\n",
      "import shutil\r\n",
      "import subprocess\r\n",
      "\r\n",
      "\"\"\"Copy Special exercise\r\n",
      "\"\"\"\r\n",
      "\r\n",
      "def get_special_paths(dirname):\r\n",
      "  result = []\r\n",
      "  paths = os.listdir(dirname)\r\n",
      "  for fname in paths:\r\n",
      "    match = re.search(r'__(\\w+)__', fname)\r\n",
      "    if match:\r\n",
      "      result.append(os.path.abspath(os.path.join(dirname, fname)))\r\n",
      "  return result\r\n",
      "\r\n",
      "def copy_to(paths, to_dir):\r\n",
      "  if not os.path.exists(to_dir):\r\n",
      "    os.mkdir(to_dir)\r\n",
      "  for path in paths:\r\n",
      "    fname = os.path.basename(path)\r\n",
      "    shutil.copy(path, os.path.join(to_dir, fname))\r\n",
      "\r\n",
      "def zip_to(paths, zipfile):\r\n",
      "  cmd = 'zip -j ' + zipfile + ' ' + ' '.join(paths)\r\n",
      "  print(\"Command I'm going to do:\" + cmd)\r\n",
      "  (status, output) = subprocess.getstatusoutput(cmd)\r\n",
      "  if status:\r\n",
      "    sys.stderr.write(output)\r\n",
      "    sys.exit(1)\r\n",
      "\r\n",
      "def main():\r\n",
      "  # This basic command line argument parsing code is provided.\r\n",
      "  # Add code to call your functions below.\r\n",
      "\r\n",
      "  # Make a list of command line arguments, omitting the [0] element\r\n",
      "  # which is the script itself.\r\n",
      "  args = sys.argv[1:]\r\n",
      "  if not args:\r\n",
      "    print(\"usage: [--todir dir][--tozip zipfile] dir [dir ...]\");\r\n",
      "    sys.exit(1)\r\n",
      "\r\n",
      "  # todir and tozip are either set from command line\r\n",
      "  # or left as the empty string.\r\n",
      "  # The args array is left just containing the dirs.\r\n",
      "  todir = ''\r\n",
      "  if args[0] == '--todir':\r\n",
      "    todir = args[1]\r\n",
      "    del args[0:2]\r\n",
      "\r\n",
      "  tozip = ''\r\n",
      "  if args[0] == '--tozip':\r\n",
      "    tozip = args[1]\r\n",
      "    del args[0:2]\r\n",
      "\r\n",
      "  if len(args) == 0:\r\n",
      "    print(\"error: must specify one or more dirs\")\r\n",
      "    sys.exit(1)\r\n",
      "\r\n",
      "  paths = []\r\n",
      "  for dirname in args:\r\n",
      "    paths.extend(get_special_paths(dirname))\r\n",
      "\r\n",
      "  if todir:\r\n",
      "    copy_to(paths, todir)\r\n",
      "  elif tozip:\r\n",
      "    zip_to(paths, tozip)\r\n",
      "  else:\r\n",
      "    print('\\n'.join(paths))\r\n",
      "  \r\n",
      "if __name__ == \"__main__\":\r\n",
      "  main()\r\n"
     ]
    }
   ],
   "source": [
    "!cat google-python-exercises/copyspecial/copyspecial.py"
   ]
  },
  {
   "cell_type": "markdown",
   "metadata": {},
   "source": [
    "## Exercise: logpuzzle.py"
   ]
  },
  {
   "cell_type": "code",
   "execution_count": 165,
   "metadata": {},
   "outputs": [],
   "source": [
    "filename = './google-python-exercises/logpuzzle/animal_code.google.com'\n",
    "dest_dir = './google-python-exercises/logpuzzle/output/'"
   ]
  },
  {
   "cell_type": "code",
   "execution_count": 166,
   "metadata": {},
   "outputs": [],
   "source": [
    "def url_sort_key(url):\n",
    "  match = re.search(r'-(\\w+)-(\\w+)\\.\\w+', url)\n",
    "  if match:\n",
    "    return match.group(2)\n",
    "  else:\n",
    "    return url\n",
    "\n",
    "def read_urls(filename):\n",
    "  underbar = filename.index('_')\n",
    "  host = filename[underbar + 1:]\n",
    "  url_dict = {}\n",
    "  f = open(filename)\n",
    "  for line in f:\n",
    "    match = re.search(r'\"GET (\\S+)', line)\n",
    "    if match:\n",
    "      path = match.group(1)\n",
    "      if 'puzzle' in path:\n",
    "        url_dict['http://' + host + path] = 1\n",
    "  return sorted(url_dict.keys(), key=url_sort_key)"
   ]
  },
  {
   "cell_type": "code",
   "execution_count": 167,
   "metadata": {},
   "outputs": [
    {
     "name": "stdout",
     "output_type": "stream",
     "text": [
      "['http://code.google.com/edu/languages/google-python-class/images/puzzle/a-baaa.jpg', 'http://code.google.com/edu/languages/google-python-class/images/puzzle/a-baab.jpg', 'http://code.google.com/edu/languages/google-python-class/images/puzzle/a-baac.jpg', 'http://code.google.com/edu/languages/google-python-class/images/puzzle/a-baad.jpg', 'http://code.google.com/edu/languages/google-python-class/images/puzzle/a-baae.jpg', 'http://code.google.com/edu/languages/google-python-class/images/puzzle/a-baaf.jpg', 'http://code.google.com/edu/languages/google-python-class/images/puzzle/a-baag.jpg', 'http://code.google.com/edu/languages/google-python-class/images/puzzle/a-baah.jpg', 'http://code.google.com/edu/languages/google-python-class/images/puzzle/a-baai.jpg', 'http://code.google.com/edu/languages/google-python-class/images/puzzle/a-baaj.jpg', 'http://code.google.com/edu/languages/google-python-class/images/puzzle/a-baba.jpg', 'http://code.google.com/edu/languages/google-python-class/images/puzzle/a-babb.jpg', 'http://code.google.com/edu/languages/google-python-class/images/puzzle/a-babc.jpg', 'http://code.google.com/edu/languages/google-python-class/images/puzzle/a-babd.jpg', 'http://code.google.com/edu/languages/google-python-class/images/puzzle/a-babe.jpg', 'http://code.google.com/edu/languages/google-python-class/images/puzzle/a-babf.jpg', 'http://code.google.com/edu/languages/google-python-class/images/puzzle/a-babg.jpg', 'http://code.google.com/edu/languages/google-python-class/images/puzzle/a-babh.jpg', 'http://code.google.com/edu/languages/google-python-class/images/puzzle/a-babi.jpg', 'http://code.google.com/edu/languages/google-python-class/images/puzzle/a-babj.jpg']\n"
     ]
    }
   ],
   "source": [
    "img_urls = read_urls(filename)\n",
    "print(img_urls)"
   ]
  },
  {
   "cell_type": "code",
   "execution_count": 168,
   "metadata": {},
   "outputs": [],
   "source": [
    "def download_images(img_urls, dest_dir):\n",
    "  if not os.path.exists(dest_dir):\n",
    "    os.makedirs(dest_dir)\n",
    "  index = open(os.path.join(dest_dir, 'index.html'), 'w')\n",
    "  index.write('<html><body>\\n')\n",
    "  i = 0\n",
    "  for img_url in img_urls:\n",
    "    local_name = 'img%d' % i\n",
    "    print('Retrieving...', img_url)\n",
    "    urllib.request.urlretrieve(img_url, os.path.join(dest_dir, local_name))\n",
    "    index.write('<img src=\"%s\">' % (local_name,))\n",
    "    i += 1\n",
    "  index.write('\\n</body></html>\\n')\n",
    "  index.close()"
   ]
  },
  {
   "cell_type": "code",
   "execution_count": 169,
   "metadata": {},
   "outputs": [
    {
     "name": "stdout",
     "output_type": "stream",
     "text": [
      "Retrieving... http://code.google.com/edu/languages/google-python-class/images/puzzle/a-baaa.jpg\n",
      "Retrieving... http://code.google.com/edu/languages/google-python-class/images/puzzle/a-baab.jpg\n",
      "Retrieving... http://code.google.com/edu/languages/google-python-class/images/puzzle/a-baac.jpg\n",
      "Retrieving... http://code.google.com/edu/languages/google-python-class/images/puzzle/a-baad.jpg\n",
      "Retrieving... http://code.google.com/edu/languages/google-python-class/images/puzzle/a-baae.jpg\n",
      "Retrieving... http://code.google.com/edu/languages/google-python-class/images/puzzle/a-baaf.jpg\n",
      "Retrieving... http://code.google.com/edu/languages/google-python-class/images/puzzle/a-baag.jpg\n",
      "Retrieving... http://code.google.com/edu/languages/google-python-class/images/puzzle/a-baah.jpg\n",
      "Retrieving... http://code.google.com/edu/languages/google-python-class/images/puzzle/a-baai.jpg\n",
      "Retrieving... http://code.google.com/edu/languages/google-python-class/images/puzzle/a-baaj.jpg\n",
      "Retrieving... http://code.google.com/edu/languages/google-python-class/images/puzzle/a-baba.jpg\n",
      "Retrieving... http://code.google.com/edu/languages/google-python-class/images/puzzle/a-babb.jpg\n",
      "Retrieving... http://code.google.com/edu/languages/google-python-class/images/puzzle/a-babc.jpg\n",
      "Retrieving... http://code.google.com/edu/languages/google-python-class/images/puzzle/a-babd.jpg\n",
      "Retrieving... http://code.google.com/edu/languages/google-python-class/images/puzzle/a-babe.jpg\n",
      "Retrieving... http://code.google.com/edu/languages/google-python-class/images/puzzle/a-babf.jpg\n",
      "Retrieving... http://code.google.com/edu/languages/google-python-class/images/puzzle/a-babg.jpg\n",
      "Retrieving... http://code.google.com/edu/languages/google-python-class/images/puzzle/a-babh.jpg\n",
      "Retrieving... http://code.google.com/edu/languages/google-python-class/images/puzzle/a-babi.jpg\n",
      "Retrieving... http://code.google.com/edu/languages/google-python-class/images/puzzle/a-babj.jpg\n"
     ]
    }
   ],
   "source": [
    "download_images(img_urls, dest_dir)"
   ]
  },
  {
   "cell_type": "code",
   "execution_count": 170,
   "metadata": {},
   "outputs": [
    {
     "name": "stdout",
     "output_type": "stream",
     "text": [
      "img0       img11      img14      img17      img2       img5       img8\r\n",
      "img1       img12      img15      img18      img3       img6       img9\r\n",
      "img10      img13      img16      img19      img4       img7       index.html\r\n"
     ]
    }
   ],
   "source": [
    "!ls ./google-python-exercises/logpuzzle/output/"
   ]
  },
  {
   "cell_type": "code",
   "execution_count": 171,
   "metadata": {},
   "outputs": [
    {
     "name": "stdout",
     "output_type": "stream",
     "text": [
      "Retrieving... http://code.google.com/edu/languages/google-python-class/images/puzzle/a-baaa.jpg\n",
      "Retrieving... http://code.google.com/edu/languages/google-python-class/images/puzzle/a-baab.jpg\n",
      "Retrieving... http://code.google.com/edu/languages/google-python-class/images/puzzle/a-baac.jpg\n",
      "Retrieving... http://code.google.com/edu/languages/google-python-class/images/puzzle/a-baad.jpg\n",
      "Retrieving... http://code.google.com/edu/languages/google-python-class/images/puzzle/a-baae.jpg\n",
      "Retrieving... http://code.google.com/edu/languages/google-python-class/images/puzzle/a-baaf.jpg\n",
      "Retrieving... http://code.google.com/edu/languages/google-python-class/images/puzzle/a-baag.jpg\n",
      "Retrieving... http://code.google.com/edu/languages/google-python-class/images/puzzle/a-baah.jpg\n",
      "Retrieving... http://code.google.com/edu/languages/google-python-class/images/puzzle/a-baai.jpg\n",
      "Retrieving... http://code.google.com/edu/languages/google-python-class/images/puzzle/a-baaj.jpg\n",
      "Retrieving... http://code.google.com/edu/languages/google-python-class/images/puzzle/a-baba.jpg\n",
      "Retrieving... http://code.google.com/edu/languages/google-python-class/images/puzzle/a-babb.jpg\n",
      "Retrieving... http://code.google.com/edu/languages/google-python-class/images/puzzle/a-babc.jpg\n",
      "Retrieving... http://code.google.com/edu/languages/google-python-class/images/puzzle/a-babd.jpg\n",
      "Retrieving... http://code.google.com/edu/languages/google-python-class/images/puzzle/a-babe.jpg\n",
      "Retrieving... http://code.google.com/edu/languages/google-python-class/images/puzzle/a-babf.jpg\n",
      "Retrieving... http://code.google.com/edu/languages/google-python-class/images/puzzle/a-babg.jpg\n",
      "Retrieving... http://code.google.com/edu/languages/google-python-class/images/puzzle/a-babh.jpg\n",
      "Retrieving... http://code.google.com/edu/languages/google-python-class/images/puzzle/a-babi.jpg\n",
      "Retrieving... http://code.google.com/edu/languages/google-python-class/images/puzzle/a-babj.jpg\n"
     ]
    }
   ],
   "source": [
    "!python google-python-exercises/logpuzzle/logpuzzle.py \\\n",
    "  --todir ./google-python-exercises/logpuzzle/animaldir/ \\\n",
    "  ./google-python-exercises/logpuzzle/animal_code.google.com"
   ]
  },
  {
   "cell_type": "code",
   "execution_count": 172,
   "metadata": {},
   "outputs": [
    {
     "name": "stdout",
     "output_type": "stream",
     "text": [
      "img0       img11      img14      img17      img2       img5       img8\r\n",
      "img1       img12      img15      img18      img3       img6       img9\r\n",
      "img10      img13      img16      img19      img4       img7       index.html\r\n"
     ]
    }
   ],
   "source": [
    "!ls ./google-python-exercises/logpuzzle/animaldir/"
   ]
  },
  {
   "cell_type": "code",
   "execution_count": 174,
   "metadata": {},
   "outputs": [
    {
     "name": "stdout",
     "output_type": "stream",
     "text": [
      "#!/usr/bin/python\r\n",
      "# Copyright 2010 Google Inc.\r\n",
      "# Licensed under the Apache License, Version 2.0\r\n",
      "# http://www.apache.org/licenses/LICENSE-2.0\r\n",
      "\r\n",
      "# Google's Python Class\r\n",
      "# http://code.google.com/edu/languages/google-python-class/\r\n",
      "\r\n",
      "import os\r\n",
      "import re\r\n",
      "import sys\r\n",
      "import urllib.request\r\n",
      "\r\n",
      "\"\"\"Logpuzzle exercise\r\n",
      "Given an apache logfile, find the puzzle urls and download the images.\r\n",
      "\r\n",
      "Here's what a puzzle url looks like:\r\n",
      "10.254.254.28 - - [06/Aug/2007:00:13:48 -0700] \"GET /~foo/puzzle-bar-aaab.jpg HTTP/1.0\" 302 528 \"-\" \"Mozilla/5.0 (Windows; U; Windows NT 5.1; en-US; rv:1.8.1.6) Gecko/20070725 Firefox/2.0.0.6\"\r\n",
      "\"\"\"\r\n",
      "\r\n",
      "\r\n",
      "def url_sort_key(url):\r\n",
      "  match = re.search(r'-(\\w+)-(\\w+)\\.\\w+', url)\r\n",
      "  if match:\r\n",
      "    return match.group(2)\r\n",
      "  else:\r\n",
      "    return url\r\n",
      "\r\n",
      "def read_urls(filename):\r\n",
      "  underbar = filename.index('_')\r\n",
      "  host = filename[underbar + 1:]\r\n",
      "  url_dict = {}\r\n",
      "  f = open(filename)\r\n",
      "  for line in f:\r\n",
      "    match = re.search(r'\"GET (\\S+)', line)\r\n",
      "    if match:\r\n",
      "      path = match.group(1)\r\n",
      "      if 'puzzle' in path:\r\n",
      "        url_dict['http://' + host + path] = 1\r\n",
      "  return sorted(url_dict.keys(), key=url_sort_key)  \r\n",
      "\r\n",
      "def download_images(img_urls, dest_dir):\r\n",
      "  if not os.path.exists(dest_dir):\r\n",
      "    os.makedirs(dest_dir)\r\n",
      "  index = open(os.path.join(dest_dir, 'index.html'), 'w')\r\n",
      "  index.write('<html><body>\\n')\r\n",
      "  i = 0\r\n",
      "  for img_url in img_urls:\r\n",
      "    local_name = 'img%d' % i\r\n",
      "    print('Retrieving...', img_url)\r\n",
      "    urllib.request.urlretrieve(img_url, os.path.join(dest_dir, local_name))\r\n",
      "    index.write('<img src=\"%s\">' % (local_name,))\r\n",
      "    i += 1\r\n",
      "  index.write('\\n</body></html>\\n')\r\n",
      "  index.close()  \r\n",
      "\r\n",
      "def main():\r\n",
      "  args = sys.argv[1:]\r\n",
      "\r\n",
      "  if not args:\r\n",
      "    print('usage: [--todir dir] logfile ')\r\n",
      "    sys.exit(1)\r\n",
      "\r\n",
      "  todir = ''\r\n",
      "  if args[0] == '--todir':\r\n",
      "    todir = args[1]\r\n",
      "    del args[0:2]\r\n",
      "\r\n",
      "  img_urls = read_urls(args[0])\r\n",
      "\r\n",
      "  if todir:\r\n",
      "    download_images(img_urls, todir)\r\n",
      "  else:\r\n",
      "    print('\\n'.join(img_urls))\r\n",
      "\r\n",
      "if __name__ == '__main__':\r\n",
      "  main()\r\n"
     ]
    }
   ],
   "source": [
    "!cat google-python-exercises/logpuzzle/logpuzzle.py"
   ]
  }
 ],
 "metadata": {
  "kernelspec": {
   "display_name": "Python 3",
   "language": "python",
   "name": "python3"
  },
  "language_info": {
   "codemirror_mode": {
    "name": "ipython",
    "version": 3
   },
   "file_extension": ".py",
   "mimetype": "text/x-python",
   "name": "python",
   "nbconvert_exporter": "python",
   "pygments_lexer": "ipython3",
   "version": "3.7.6"
  }
 },
 "nbformat": 4,
 "nbformat_minor": 4
}
